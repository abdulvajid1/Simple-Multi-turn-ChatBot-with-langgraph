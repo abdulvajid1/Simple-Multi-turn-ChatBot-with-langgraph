{
 "cells": [
  {
   "cell_type": "code",
   "execution_count": 3,
   "id": "c87ce03d",
   "metadata": {},
   "outputs": [],
   "source": [
    "\n",
    "from langgraph.graph import StateGraph, START, END\n",
    "from typing import TypedDict\n",
    "from langgraph.graph.message import AnyMessage\n",
    "from dotenv import load_dotenv\n",
    "load_dotenv()\n",
    "import os\n",
    "from langchain_core.messages import HumanMessage, AIMessage, SystemMessage\n",
    "from langgraph.graph.message import add_messages, MessagesState\n",
    "from typing import Annotated\n",
    "from langchain_google_genai import ChatGoogleGenerativeAI\n",
    "from langgraph.checkpoint.memory import MemorySaver\n",
    "from langchain_community.document_loaders import WikipediaLoader\n",
    "from langchain_community.tools import DuckDuckGoSearchRun\n",
    "import operator\n",
    "from pydantic import BaseModel\n",
    "from pydantic import Field\n",
    "from typing import List\n",
    "\n",
    "\n"
   ]
  },
  {
   "cell_type": "code",
   "execution_count": 17,
   "id": "73d5b959",
   "metadata": {},
   "outputs": [],
   "source": [
    "model = ChatGoogleGenerativeAI(\n",
    "    model=\"gemini-2.0-flash\",\n",
    "    temperature=0,\n",
    "    max_tokens=None,\n",
    ")\n"
   ]
  },
  {
   "cell_type": "code",
   "execution_count": 25,
   "id": "52963d0c",
   "metadata": {},
   "outputs": [],
   "source": [
    "class Analyst(BaseModel):\n",
    "    affiliation:str = Field(description='Primary Affiliation of the analyst')\n",
    "    name: str = Field(description='name of the analyst')\n",
    "    role: str = Field(description='role of the analyst in the context of the topic')\n",
    "    description:str = Field(description='description of the analyst focus, concerns and motives')\n",
    "    @property\n",
    "    def persona(self) -> str:\n",
    "        return f\"Name: {self.name}\\nRole: {self.role}\\nAffiliation: {self.affiliation}\\nDescription: {self.description}\\n\"\n",
    "    \n",
    "class Perspective(BaseModel):\n",
    "    analysts: List[Analyst] = Field(description='Comprehensive list of analyst with their roles and affiliatoins')\n",
    "    \n",
    "class GeneralAnalystState(TypedDict):\n",
    "    topic: str\n",
    "    max_analyst: str\n",
    "    human_analyst_feedback: str\n",
    "    analysts: List[Analyst]\n",
    "    "
   ]
  },
  {
   "cell_type": "code",
   "execution_count": 6,
   "id": "62b0f390",
   "metadata": {},
   "outputs": [],
   "source": [
    "# prompt\n",
    "analyst_instructions = \"\"\"You are tasked with creating a set of AI analyst personas. Follow these instructions carefully:\n",
    "\n",
    "1. First, review the research topic:\n",
    "{topic}\n",
    "\n",
    "2. Examine any editorial feedback that has been optionally provided to guide creation of the analysts:\n",
    "{human_analyst_feedback}\n",
    "\n",
    "3. Determine the most interesting themes based upon documents and / or feedback above.\n",
    "\n",
    "4. Pick the top {max_analysts} themes.\n",
    "\n",
    "5. Assign one analyst to each theme.\"\"\""
   ]
  },
  {
   "cell_type": "code",
   "execution_count": 29,
   "id": "c5b3f05c",
   "metadata": {},
   "outputs": [
    {
     "data": {
      "image/png": "[encoded data removed]",
      "text/plain": [
       "<langgraph.graph.state.CompiledStateGraph object at 0x115667160>"
      ]
     },
     "execution_count": 29,
     "metadata": {},
     "output_type": "execute_result"
    }
   ],
   "source": [
    "# node\n",
    "def create_analysts(state: GeneralAnalystState):\n",
    "    topic = state['topic']\n",
    "    max_analyst = state['max_analyst']\n",
    "    human_analyst_feedback = state.get('human_analyst_feedback','')\n",
    "    structured_model = model.with_structured_output(Perspective)\n",
    "    system_message = analyst_instructions.format(topic=topic,\n",
    "                                                human_analyst_feedback=human_analyst_feedback,\n",
    "                                                max_analyst=max_analyst)\n",
    "    message = [SystemMessage(analyst_instructions),\n",
    "               HumanMessage('Generate a set of Analyst')]\n",
    "    output = structured_model.invoke(message)\n",
    "    return {'analysts':output.analysts}\n",
    "\n",
    "def human_feedback(state: GeneralAnalystState):\n",
    "    pass\n",
    "\n",
    "def should_continue(state: GeneralAnalystState):\n",
    "    human_analyst_feedback = state.get('human_analyst_feedback', None)\n",
    "    if human_analyst_feedback:\n",
    "        return 'create_analyst'    \n",
    "    return END\n",
    "    \n",
    "\n",
    "\n",
    "builder = StateGraph(GeneralAnalystState)\n",
    "\n",
    "builder.add_node('create_analysts', create_analysts)\n",
    "builder.add_node('human_feedback', human_feedback)\n",
    "builder.add_edge(START, 'create_analysts')\n",
    "builder.add_edge('create_analysts', 'human_feedback')\n",
    "builder.add_conditional_edges(\n",
    "    'human_feedback',\n",
    "    should_continue,\n",
    "    ['create_analysts', END]\n",
    ")\n",
    "\n",
    "memory = MemorySaver()\n",
    "\n",
    "graph = builder.compile(checkpointer=memory, interrupt_before=['human_feedback'])\n",
    "graph"
   ]
  },
  {
   "cell_type": "code",
   "execution_count": null,
   "id": "0a1518dd",
   "metadata": {},
   "outputs": [],
   "source": []
  },
  {
   "cell_type": "code",
   "execution_count": 19,
   "id": "73703756",
   "metadata": {},
   "outputs": [],
   "source": [
    "pers = model.with_structured_output(Perspective).invoke('Generate a set of analyst')"
   ]
  },
  {
   "cell_type": "code",
   "execution_count": 21,
   "id": "ef859767",
   "metadata": {},
   "outputs": [
    {
     "data": {
      "text/plain": [
       "[Analyst(affiliation='ThinkTankA', name='John Smith', role='National Security Analyst', description='Cybersecurity threats from a national security perspective'),\n",
       " Analyst(affiliation='BankOfAmerica', name='Jane Doe', role='Financial Analyst', description='Cybersecurity threats from a financial perspective')]"
      ]
     },
     "execution_count": 21,
     "metadata": {},
     "output_type": "execute_result"
    }
   ],
   "source": [
    "pers.analyst"
   ]
  },
  {
   "cell_type": "code",
   "execution_count": null,
   "id": "400b6922",
   "metadata": {},
   "outputs": [],
   "source": []
  }
 ],
 "metadata": {
  "kernelspec": {
   "display_name": ".venv",
   "language": "python",
   "name": "python3"
  },
  "language_info": {
   "codemirror_mode": {
    "name": "ipython",
    "version": 3
   },
   "file_extension": ".py",
   "mimetype": "text/x-python",
   "name": "python",
   "nbconvert_exporter": "python",
   "pygments_lexer": "ipython3",
   "version": "3.9.6"
  }
 },
 "nbformat": 4,
 "nbformat_minor": 5
}
