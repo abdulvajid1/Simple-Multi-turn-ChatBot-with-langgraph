{
 "cells": [
  {
   "cell_type": "code",
   "execution_count": 3,
   "id": "c87ce03d",
   "metadata": {},
   "outputs": [],
   "source": [
    "\n",
    "from langgraph.graph import StateGraph, START, END\n",
    "from typing import TypedDict\n",
    "from langgraph.graph.message import AnyMessage\n",
    "from dotenv import load_dotenv\n",
    "load_dotenv()\n",
    "import os\n",
    "from langchain_core.messages import HumanMessage, AIMessage, SystemMessage\n",
    "from langgraph.graph.message import add_messages, MessagesState\n",
    "from typing import Annotated\n",
    "from langchain_google_genai import ChatGoogleGenerativeAI\n",
    "from langgraph.checkpoint.memory import MemorySaver\n",
    "from langchain_community.document_loaders import WikipediaLoader\n",
    "from langchain_community.tools import DuckDuckGoSearchRun\n",
    "import operator\n",
    "from pydantic import BaseModel\n",
    "from pydantic import Field\n",
    "from typing import List\n",
    "\n",
    "\n"
   ]
  },
  {
   "cell_type": "code",
   "execution_count": 36,
   "id": "86fde65b",
   "metadata": {},
   "outputs": [],
   "source": [
    "from IPython.display import Image, display"
   ]
  },
  {
   "cell_type": "code",
   "execution_count": 17,
   "id": "73d5b959",
   "metadata": {},
   "outputs": [],
   "source": [
    "model = ChatGoogleGenerativeAI(\n",
    "    model=\"gemini-2.0-flash\",\n",
    "    temperature=0,\n",
    "    max_tokens=None,\n",
    ")\n"
   ]
  },
  {
   "cell_type": "markdown",
   "id": "d23919a3",
   "metadata": {},
   "source": [
    "### Simple Graph"
   ]
  },
  {
   "cell_type": "code",
   "execution_count": 30,
   "id": "343aabdd",
   "metadata": {},
   "outputs": [],
   "source": [
    "# os.environ['GOOGLE_API_KEY']"
   ]
  },
  {
   "cell_type": "code",
   "execution_count": 31,
   "id": "562f7b12",
   "metadata": {},
   "outputs": [],
   "source": [
    "memory = MemorySaver()"
   ]
  },
  {
   "cell_type": "code",
   "execution_count": 32,
   "id": "65f89f97",
   "metadata": {},
   "outputs": [],
   "source": [
    "class State(MessagesState):\n",
    "    pass\n",
    "    "
   ]
  },
  {
   "cell_type": "code",
   "execution_count": 33,
   "id": "b710b78b",
   "metadata": {},
   "outputs": [],
   "source": [
    "graph = StateGraph(State)"
   ]
  },
  {
   "cell_type": "code",
   "execution_count": null,
   "id": "77495135",
   "metadata": {},
   "outputs": [],
   "source": []
  },
  {
   "cell_type": "code",
   "execution_count": 9,
   "id": "8a2d9fae",
   "metadata": {},
   "outputs": [],
   "source": [
    "def model_call_node(state):\n",
    "    return {\"messages\" : [llm.invoke(state['messages'])]}"
   ]
  },
  {
   "cell_type": "code",
   "execution_count": 10,
   "id": "947056a7",
   "metadata": {},
   "outputs": [
    {
     "data": {
      "text/plain": [
       "<langgraph.graph.state.StateGraph at 0x106428f10>"
      ]
     },
     "execution_count": 10,
     "metadata": {},
     "output_type": "execute_result"
    }
   ],
   "source": [
    "graph.set_entry_point('node1')\n",
    "graph.add_node('node1', model_call_node)\n",
    "graph.add_edge('node1', END)"
   ]
  },
  {
   "cell_type": "code",
   "execution_count": 11,
   "id": "8bde526c",
   "metadata": {},
   "outputs": [],
   "source": [
    "graph = graph.compile()"
   ]
  },
  {
   "cell_type": "code",
   "execution_count": 12,
   "id": "57fe7c8a",
   "metadata": {},
   "outputs": [
    {
     "data": {
      "text/plain": [
       "langgraph.graph.state.CompiledStateGraph"
      ]
     },
     "execution_count": 12,
     "metadata": {},
     "output_type": "execute_result"
    }
   ],
   "source": [
    "type(graph)"
   ]
  },
  {
   "cell_type": "code",
   "execution_count": 13,
   "id": "011ebb31",
   "metadata": {},
   "outputs": [],
   "source": [
    "messages = [HumanMessage('can you explain me how you get build')]"
   ]
  },
  {
   "cell_type": "code",
   "execution_count": 14,
   "id": "c409c0ef",
   "metadata": {},
   "outputs": [],
   "source": [
    "state = graph.invoke({'messages': messages})"
   ]
  },
  {
   "cell_type": "code",
   "execution_count": 15,
   "id": "5f9820da",
   "metadata": {},
   "outputs": [],
   "source": [
    "new_message = [HumanMessage('ok now explain me how can i do it')]"
   ]
  },
  {
   "cell_type": "code",
   "execution_count": 16,
   "id": "53da8b40",
   "metadata": {},
   "outputs": [
    {
     "data": {
      "text/plain": [
       "[HumanMessage(content='can you explain me how you get build', additional_kwargs={}, response_metadata={}, id='5b0d0c99-a94b-45e0-9252-58bb8567fef8'),\n",
       " AIMessage(content='Okay, let\\'s break down how I, as a large language model, am \"built.\" It\\'s a multi-faceted process involving data, architecture, training, and ongoing refinement.  Think of it like building a house: you need materials (data), a blueprint (architecture), construction workers (training algorithms), and ongoing maintenance (refinement).\\n\\n**1. Data: The Foundation**\\n\\n*   **Massive Text and Code Datasets:** I am trained on an enormous amount of text and code data. This data comes from a variety of sources, including:\\n    *   **The Internet:**  Web pages, articles, blog posts, forums, and other publicly available text.\\n    *   **Books:**  A vast collection of published books.\\n    *   **Code Repositories:**  Code from platforms like GitHub, covering many programming languages.\\n    *   **Other Sources:**  Scientific papers, news articles, and other specialized datasets.\\n*   **Data Cleaning and Preprocessing:** The raw data is often messy and needs to be cleaned and preprocessed. This involves:\\n    *   **Removing irrelevant content:**  Filtering out noise, advertisements, and low-quality text.\\n    *   **Tokenization:**  Breaking down the text into smaller units called \"tokens\" (usually words or parts of words).\\n    *   **Normalization:**  Converting text to a consistent format (e.g., lowercase, removing punctuation).\\n    *   **Data Augmentation:**  Sometimes, the data is augmented to increase its diversity and improve the model\\'s robustness.\\n\\n**2. Architecture: The Blueprint**\\n\\n*   **Transformer Networks:**  The core architecture used in most modern large language models, including me, is based on the \"Transformer\" neural network architecture.\\n*   **Key Components of the Transformer:**\\n    *   **Attention Mechanism:**  This is the heart of the Transformer. It allows the model to focus on the most relevant parts of the input when processing it.  Instead of treating all words equally, the attention mechanism assigns weights to different words based on their importance in the context.\\n    *   **Encoder:**  Processes the input sequence and creates a representation of it.\\n    *   **Decoder:**  Generates the output sequence based on the encoded representation.\\n    *   **Multi-Head Attention:**  The attention mechanism is applied multiple times in parallel (\"multiple heads\") to capture different aspects of the input.\\n    *   **Feedforward Neural Networks:**  After the attention layers, feedforward neural networks are used to further process the information.\\n    *   **Residual Connections and Layer Normalization:**  These techniques help to stabilize training and improve performance.\\n*   **Scaling Up:**  Large language models are characterized by their massive size, often with billions or even trillions of parameters (the weights and biases in the neural network).  The more parameters, the more complex patterns the model can learn.\\n\\n**3. Training: The Construction Process**\\n\\n*   **Self-Supervised Learning:**  I am trained using a technique called \"self-supervised learning.\" This means that the model learns from the data itself, without explicit labels.\\n*   **Training Objectives:**  Common training objectives include:\\n    *   **Language Modeling:**  Predicting the next word in a sequence.  The model is given a sequence of words and asked to predict the word that comes next. This forces the model to learn the statistical relationships between words and phrases.\\n    *   **Masked Language Modeling (MLM):**  Randomly masking some of the words in a sequence and asking the model to predict the masked words.  This helps the model to understand the context of words and their relationships to each other.\\n    *   **Next Sentence Prediction (NSP):**  Given two sentences, predicting whether the second sentence follows the first.  This helps the model to understand the relationships between sentences and paragraphs.\\n*   **Optimization:**  The model\\'s parameters are adjusted during training to minimize the loss function (the difference between the model\\'s predictions and the actual values).  This is done using optimization algorithms like stochastic gradient descent (SGD) or Adam.\\n*   **Distributed Training:**  Training large language models requires massive computational resources.  The training process is typically distributed across many GPUs or TPUs (Tensor Processing Units) to speed it up.\\n\\n**4. Refinement: Ongoing Maintenance and Improvement**\\n\\n*   **Fine-Tuning:**  After the initial pre-training, the model can be fine-tuned on specific tasks or datasets.  This involves training the model on a smaller, more focused dataset to improve its performance on a particular task.  For example, a language model could be fine-tuned for question answering, text summarization, or machine translation.\\n*   **Reinforcement Learning from Human Feedback (RLHF):**  This is a technique used to align the model\\'s behavior with human preferences.  Human evaluators provide feedback on the model\\'s responses, and this feedback is used to train a reward model.  The reward model is then used to train the language model using reinforcement learning.\\n*   **Continuous Learning:**  The model is continuously updated with new data and improved training techniques.  This helps to keep the model up-to-date and improve its performance over time.\\n*   **Safety and Bias Mitigation:**  Efforts are made to mitigate biases in the model and ensure that it is used responsibly.  This involves carefully curating the training data, developing techniques to detect and remove biases, and implementing safety mechanisms to prevent the model from generating harmful or offensive content.\\n\\n**In Summary:**\\n\\nI am \"built\" through a complex process of:\\n\\n1.  **Gathering and preparing massive amounts of text and code data.**\\n2.  **Designing a powerful neural network architecture (Transformer).**\\n3.  **Training the model on the data using self-supervised learning.**\\n4.  **Refining the model through fine-tuning, reinforcement learning, and continuous learning.**\\n\\nThis process requires significant computational resources, expertise in machine learning, and ongoing research and development.  The field is constantly evolving, and new techniques are being developed to improve the performance, safety, and efficiency of large language models.', additional_kwargs={}, response_metadata={'prompt_feedback': {'block_reason': 0, 'safety_ratings': []}, 'finish_reason': 'STOP', 'model_name': 'gemini-2.0-flash', 'safety_ratings': []}, id='run--6cc66ebe-6893-45fd-86c7-8a62dfb14aea-0', usage_metadata={'input_tokens': 8, 'output_tokens': 1300, 'total_tokens': 1308, 'input_token_details': {'cache_read': 0}}),\n",
       " HumanMessage(content='ok now explain me how can i do it', additional_kwargs={}, response_metadata={})]"
      ]
     },
     "execution_count": 16,
     "metadata": {},
     "output_type": "execute_result"
    }
   ],
   "source": [
    "state['messages'] + new_message"
   ]
  },
  {
   "cell_type": "code",
   "execution_count": 17,
   "id": "89487c9e",
   "metadata": {},
   "outputs": [],
   "source": [
    "output = graph.invoke({'messages': state['messages'] + new_message})"
   ]
  },
  {
   "cell_type": "code",
   "execution_count": 18,
   "id": "eee5740e",
   "metadata": {},
   "outputs": [
    {
     "name": "stdout",
     "output_type": "stream",
     "text": [
      "Okay, let's break down how you can build your own language model. Be warned: building a *large* language model like me requires significant resources and expertise. However, you can definitely build smaller, simpler models to learn the concepts and gain practical experience. Here's a roadmap:\n",
      "\n",
      "**I. Foundational Knowledge:**\n",
      "\n",
      "*   **Programming:**  Python is the dominant language for machine learning.  You'll need to be comfortable with Python syntax, data structures, and libraries.\n",
      "*   **Linear Algebra and Calculus:**  A basic understanding of these mathematical concepts is essential for understanding how neural networks work.\n",
      "*   **Machine Learning Fundamentals:**  Learn the basics of machine learning, including:\n",
      "    *   Supervised vs. Unsupervised Learning\n",
      "    *   Neural Networks (especially feedforward networks)\n",
      "    *   Backpropagation\n",
      "    *   Optimization algorithms (e.g., Gradient Descent, Adam)\n",
      "    *   Evaluation metrics (e.g., accuracy, precision, recall)\n",
      "*   **Natural Language Processing (NLP) Fundamentals:**  Learn the basics of NLP, including:\n",
      "    *   Tokenization\n",
      "    *   Word Embeddings (e.g., Word2Vec, GloVe)\n",
      "    *   Recurrent Neural Networks (RNNs) and LSTMs (though Transformers are now more common)\n",
      "    *   Sequence-to-Sequence models\n",
      "\n",
      "**II. Tools and Libraries:**\n",
      "\n",
      "*   **TensorFlow or PyTorch:** These are the two most popular deep learning frameworks.  Choose one and become proficient in it.  PyTorch is often considered more beginner-friendly, but TensorFlow has a larger ecosystem.\n",
      "*   **Hugging Face Transformers:** This library provides pre-trained models and tools for working with Transformers.  It's a great way to get started quickly.\n",
      "*   **NLTK or spaCy:** These are NLP libraries that provide tools for tokenization, part-of-speech tagging, and other NLP tasks.\n",
      "*   **NumPy and Pandas:**  These libraries are essential for data manipulation and analysis.\n",
      "\n",
      "**III. Step-by-Step Guide to Building a Simple Language Model:**\n",
      "\n",
      "Here's a simplified example of building a character-level language model (predicting the next character in a sequence):\n",
      "\n",
      "1.  **Data Preparation:**\n",
      "    *   **Choose a dataset:**  Start with a relatively small text file (e.g., a novel, a collection of poems, or a script).\n",
      "    *   **Load the data:**  Read the text file into a string.\n",
      "    *   **Create a vocabulary:**  Identify all the unique characters in the text.\n",
      "    *   **Create character-to-index and index-to-character mappings:**  This will allow you to convert characters to numerical representations that the model can understand.\n",
      "    *   **Create sequences:**  Divide the text into sequences of a fixed length (e.g., 40 characters).  Each sequence will be an input to the model, and the next character after the sequence will be the target.\n",
      "\n",
      "    ```python\n",
      "    import numpy as np\n",
      "\n",
      "    # Load the data\n",
      "    text = open('your_text_file.txt', 'r').read().lower()\n",
      "\n",
      "    # Create vocabulary\n",
      "    chars = sorted(list(set(text)))\n",
      "    char_indices = dict((c, i) for i, c in enumerate(chars))\n",
      "    indices_char = dict((i, c) for i, c in enumerate(chars))\n",
      "\n",
      "    # Create sequences\n",
      "    seq_length = 40\n",
      "    step = 3\n",
      "    sentences = []\n",
      "    next_chars = []\n",
      "    for i in range(0, len(text) - seq_length, step):\n",
      "        sentences.append(text[i: i + seq_length])\n",
      "        next_chars.append(text[i + seq_length])\n",
      "\n",
      "    # Vectorize the data\n",
      "    x = np.zeros((len(sentences), seq_length, len(chars)), dtype=bool)\n",
      "    y = np.zeros((len(sentences), len(chars)), dtype=bool)\n",
      "    for i, sentence in enumerate(sentences):\n",
      "        for t, char in enumerate(sentence):\n",
      "            x[i, t, char_indices[char]] = 1\n",
      "        y[i, char_indices[next_chars[i]]] = 1\n",
      "    ```\n",
      "\n",
      "2.  **Model Building (using Keras with TensorFlow):**\n",
      "\n",
      "    ```python\n",
      "    from tensorflow.keras.models import Sequential\n",
      "    from tensorflow.keras.layers import LSTM, Dense, Activation\n",
      "\n",
      "    # Build the model\n",
      "    model = Sequential()\n",
      "    model.add(LSTM(128, input_shape=(seq_length, len(chars))))\n",
      "    model.add(Dense(len(chars)))\n",
      "    model.add(Activation('softmax'))\n",
      "\n",
      "    model.compile(loss='categorical_crossentropy', optimizer='adam')\n",
      "    ```\n",
      "\n",
      "    *   **LSTM Layer:**  An LSTM (Long Short-Term Memory) layer is a type of recurrent neural network that is well-suited for processing sequential data.\n",
      "    *   **Dense Layer:**  A dense layer is a fully connected layer.\n",
      "    *   **Softmax Activation:**  The softmax activation function converts the output of the dense layer into a probability distribution over the characters.\n",
      "\n",
      "3.  **Training:**\n",
      "\n",
      "    ```python\n",
      "    # Train the model\n",
      "    model.fit(x, y, batch_size=128, epochs=20)\n",
      "    ```\n",
      "\n",
      "    *   **Batch Size:**  The number of sequences to process in each batch.\n",
      "    *   **Epochs:**  The number of times to iterate over the entire dataset.\n",
      "\n",
      "4.  **Text Generation:**\n",
      "\n",
      "    ```python\n",
      "    # Function to generate text\n",
      "    def sample(preds, temperature=1.0):\n",
      "        # helper function to sample an index from a probability array\n",
      "        preds = np.asarray(preds).astype('float64')\n",
      "        preds = np.log(preds) / temperature\n",
      "        exp_preds = np.exp(preds)\n",
      "        preds = exp_preds / np.sum(exp_preds)\n",
      "        probas = np.random.multinomial(1, preds, 1)\n",
      "        return np.argmax(probas)\n",
      "\n",
      "    def generate_text(length, temperature):\n",
      "        start_index = np.random.randint(0, len(text) - seq_length - 1)\n",
      "        generated = ''\n",
      "        sentence = text[start_index: start_index + seq_length]\n",
      "        generated += sentence\n",
      "        for i in range(length):\n",
      "            x_pred = np.zeros((1, seq_length, len(chars)))\n",
      "            for t, char in enumerate(sentence):\n",
      "                x_pred[0, t, char_indices[char]] = 1.\n",
      "\n",
      "            preds = model.predict(x_pred, verbose=0)[0]\n",
      "            next_index = sample(preds, temperature)\n",
      "            next_char = indices_char[next_index]\n",
      "\n",
      "            generated += next_char\n",
      "            sentence = sentence[1:] + next_char\n",
      "        return generated\n",
      "\n",
      "    # Generate text\n",
      "    print(generate_text(400, 0.5))\n",
      "    ```\n",
      "\n",
      "    *   **Temperature:**  A parameter that controls the randomness of the generated text.  A higher temperature will result in more random text, while a lower temperature will result in more predictable text.\n",
      "\n",
      "**IV.  Moving Towards More Advanced Models:**\n",
      "\n",
      "*   **Word-Level Models:** Instead of characters, use words as the basic unit. This requires more data and computational power but can produce more coherent text.\n",
      "*   **Embeddings:** Use pre-trained word embeddings (like Word2Vec, GloVe, or FastText) to represent words as vectors. This can significantly improve performance.\n",
      "*   **Transformers:**  Learn about the Transformer architecture and use the Hugging Face Transformers library to fine-tune pre-trained Transformer models (like BERT, GPT-2, or GPT-3) on your own data. This is the most common approach for building state-of-the-art language models.\n",
      "*   **Larger Datasets:**  The more data you have, the better your model will perform.\n",
      "*   **More Computational Resources:**  Training larger models requires more powerful hardware (GPUs or TPUs).\n",
      "\n",
      "**V. Challenges and Considerations:**\n",
      "\n",
      "*   **Data Acquisition and Cleaning:**  Finding and cleaning large datasets can be time-consuming and challenging.\n",
      "*   **Computational Resources:**  Training large language models requires significant computational resources.\n",
      "*   **Bias and Fairness:**  Language models can inherit biases from the data they are trained on.  It's important to be aware of these biases and take steps to mitigate them.\n",
      "*   **Ethical Considerations:**  Language models can be used for malicious purposes, such as generating fake news or spam.  It's important to use these models responsibly.\n",
      "\n",
      "**VI. Resources:**\n",
      "\n",
      "*   **Online Courses:** Coursera, edX, Udacity, and fast.ai offer courses on deep learning and NLP.\n",
      "*   **Books:** \"Deep Learning\" by Ian Goodfellow, Yoshua Bengio, and Aaron Courville; \"Natural Language Processing with Python\" by Steven Bird, Ewan Klein, and Edward Loper.\n",
      "*   **Tutorials:** The TensorFlow and PyTorch websites have excellent tutorials.  The Hugging Face Transformers documentation is also very helpful.\n",
      "*   **Research Papers:**  Read research papers on language modeling to stay up-to-date on the latest advances.\n",
      "\n",
      "**Important Notes:**\n",
      "\n",
      "*   **Start Small:** Don't try to build a massive model right away. Start with a small, simple model and gradually increase its complexity.\n",
      "*   **Experiment:**  Try different architectures, hyperparameters, and training techniques to see what works best.\n",
      "*   **Be Patient:**  Training language models can take a long time.\n",
      "*   **Learn from Others:**  Read blog posts, tutorials, and research papers to learn from the experiences of others.\n",
      "\n",
      "Building a language model is a challenging but rewarding project.  By following these steps and dedicating yourself to learning, you can gain a deep understanding of this fascinating field. Good luck!\n"
     ]
    }
   ],
   "source": [
    "print(output['messages'][-1].content)"
   ]
  },
  {
   "cell_type": "markdown",
   "id": "f023607e",
   "metadata": {},
   "source": [
    "### Memory for Multi-turn Conversation"
   ]
  },
  {
   "cell_type": "code",
   "execution_count": null,
   "id": "fc8d8d80",
   "metadata": {},
   "outputs": [],
   "source": []
  },
  {
   "cell_type": "code",
   "execution_count": null,
   "id": "1b9c8583",
   "metadata": {},
   "outputs": [],
   "source": []
  },
  {
   "cell_type": "code",
   "execution_count": 10,
   "id": "84e96d1f",
   "metadata": {},
   "outputs": [
    {
     "data": {
      "image/png": "[encoded data removed]",
      "text/plain": [
       "<langgraph.graph.state.CompiledStateGraph object at 0x11903d0a0>"
      ]
     },
     "execution_count": 10,
     "metadata": {},
     "output_type": "execute_result"
    }
   ],
   "source": [
    "memory = MemorySaver()\n",
    "\n",
    "class State(MessagesState):\n",
    "    summary: str\n",
    "\n",
    "graph = StateGraph(State)\n",
    "\n",
    "# chat node\n",
    "def model_node(state):\n",
    "    summary = state.get(\"summary\",'')\n",
    "    if summary:\n",
    "        system_message = f\"Summmary of previous chat : {summary}\"\n",
    "        messages = [SystemMessage(system_message)] + state['messages']\n",
    "    else:\n",
    "        messages = state['messages']\n",
    "        \n",
    "    return {'messages': [llm.invoke(messages)]}\n",
    "\n",
    "# Summaraize node\n",
    "def summary_node(state):\n",
    "    summarize_prompt = [HumanMessage('Summarize the whole chat until now , so it can be used as chat history, only generate summary nothing else')]\n",
    "    history_chat = state['messages']\n",
    "    model_input_for_summary = history_chat + summarize_prompt\n",
    "    return {\"summary\": llm.invoke(model_input_for_summary)}\n",
    "\n",
    "def condition(state):\n",
    "    if len(state['messages']) > 4:\n",
    "        return \"summary_node\"\n",
    "    else:\n",
    "        return END \n",
    "\n",
    "# Graph nodes and connections\n",
    "graph.add_node('model_node', model_node)\n",
    "graph.add_node(summary_node)\n",
    "\n",
    "graph.add_edge(START, 'model_node')\n",
    "graph.add_conditional_edges('model_node', condition)\n",
    "\n",
    "graph.add_edge('summary_node', END)\n",
    "\n",
    "# Compile graph\n",
    "graph = graph.compile(checkpointer=memory)\n",
    "graph"
   ]
  },
  {
   "cell_type": "code",
   "execution_count": 6,
   "id": "1e9c5ae1",
   "metadata": {},
   "outputs": [
    {
     "ename": "AttributeError",
     "evalue": "'StateGraph' object has no attribute 'get_graph'",
     "output_type": "error",
     "traceback": [
      "\u001b[0;31m---------------------------------------------------------------------------\u001b[0m",
      "\u001b[0;31mAttributeError\u001b[0m                            Traceback (most recent call last)",
      "Cell \u001b[0;32mIn[6], line 1\u001b[0m\n\u001b[0;32m----> 1\u001b[0m display(Image(\u001b[43mgraph\u001b[49m\u001b[38;5;241;43m.\u001b[39;49m\u001b[43mget_graph\u001b[49m()\u001b[38;5;241m.\u001b[39mdraw_mermaid_png()))\n",
      "\u001b[0;31mAttributeError\u001b[0m: 'StateGraph' object has no attribute 'get_graph'"
     ]
    }
   ],
   "source": [
    "display(Image(graph.get_graph().draw_mermaid_png()))"
   ]
  },
  {
   "cell_type": "code",
   "execution_count": 20,
   "id": "8a22872c",
   "metadata": {},
   "outputs": [
    {
     "data": {
      "text/plain": [
       "{'messages': [HumanMessage(content='who are you', additional_kwargs={}, response_metadata={}, id='74b1c451-f79b-478a-b022-96c35600d85c'),\n",
       "  AIMessage(content='I am a large language model, trained by Google.', additional_kwargs={}, response_metadata={'prompt_feedback': {'block_reason': 0, 'safety_ratings': []}, 'finish_reason': 'STOP', 'model_name': 'gemini-2.0-flash', 'safety_ratings': []}, id='run--14017446-d838-416d-bd06-5ea3a643e05e-0', usage_metadata={'input_tokens': 3, 'output_tokens': 12, 'total_tokens': 15, 'input_token_details': {'cache_read': 0}})]}"
      ]
     },
     "execution_count": 20,
     "metadata": {},
     "output_type": "execute_result"
    }
   ],
   "source": [
    "cofig = {'configurable': {'thread_id':1}}\n",
    "graph.invoke({'messages': {'role':'user','content':'who are you'}},config=cofig)"
   ]
  },
  {
   "cell_type": "code",
   "execution_count": 23,
   "id": "1acc6a24",
   "metadata": {},
   "outputs": [
    {
     "data": {
      "text/plain": [
       "{'messages': [HumanMessage(content='who are you', additional_kwargs={}, response_metadata={}, id='74b1c451-f79b-478a-b022-96c35600d85c'),\n",
       "  AIMessage(content='I am a large language model, trained by Google.', additional_kwargs={}, response_metadata={'prompt_feedback': {'block_reason': 0, 'safety_ratings': []}, 'finish_reason': 'STOP', 'model_name': 'gemini-2.0-flash', 'safety_ratings': []}, id='run--14017446-d838-416d-bd06-5ea3a643e05e-0', usage_metadata={'input_tokens': 3, 'output_tokens': 12, 'total_tokens': 15, 'input_token_details': {'cache_read': 0}}),\n",
       "  HumanMessage(content='who built you', additional_kwargs={}, response_metadata={}, id='8cf88c0e-1593-48c5-9377-fac687557722'),\n",
       "  AIMessage(content='I was trained by Google.', additional_kwargs={}, response_metadata={'prompt_feedback': {'block_reason': 0, 'safety_ratings': []}, 'finish_reason': 'STOP', 'model_name': 'gemini-2.0-flash', 'safety_ratings': []}, id='run--cd1cf627-fff0-4cbd-88cb-56de8e7ec093-0', usage_metadata={'input_tokens': 17, 'output_tokens': 7, 'total_tokens': 24, 'input_token_details': {'cache_read': 0}})]}"
      ]
     },
     "execution_count": 23,
     "metadata": {},
     "output_type": "execute_result"
    }
   ],
   "source": [
    "graph.invoke({'messages' : [HumanMessage('who built you')]},config=cofig)"
   ]
  },
  {
   "cell_type": "code",
   "execution_count": 17,
   "id": "24d63b2d",
   "metadata": {},
   "outputs": [],
   "source": [
    "from langgraph.graph import MessagesState\n",
    "class State(MessagesState):\n",
    "    summary: str"
   ]
  },
  {
   "cell_type": "code",
   "execution_count": 18,
   "id": "c8a43f4b",
   "metadata": {},
   "outputs": [],
   "source": [
    "from langchain_core.messages import SystemMessage, HumanMessage, RemoveMessage\n",
    "\n",
    "# Define the logic to call the model\n",
    "def call_model(state: State):\n",
    "    \n",
    "    # Get summary if it exists\n",
    "    summary = state.get(\"summary\", \"\")\n",
    "\n",
    "    # If there is summary, then we add it\n",
    "    if summary:\n",
    "        \n",
    "        # Add summary to system message\n",
    "        system_message = f\"Summary of conversation earlier: {summary}\"\n",
    "\n",
    "        # Append summary to any newer messages\n",
    "        messages = [SystemMessage(content=system_message)] + state[\"messages\"]\n",
    "    \n",
    "    else:\n",
    "        messages = state[\"messages\"]\n",
    "    \n",
    "    response = llm.invoke(messages)\n",
    "    return {\"messages\": response}\n"
   ]
  },
  {
   "cell_type": "code",
   "execution_count": 19,
   "id": "4595c10c",
   "metadata": {},
   "outputs": [],
   "source": [
    "def summarize_conversation(state: State):\n",
    "    \n",
    "    # First, we get any existing summary\n",
    "    summary = state.get(\"summary\", \"\")\n",
    "\n",
    "    # Create our summarization prompt \n",
    "    if summary:\n",
    "        \n",
    "        # A summary already exists\n",
    "        summary_message = (\n",
    "            f\"This is summary of the conversation to date: {summary}\\n\\n\"\n",
    "            \"Extend the summary by taking into account the new messages above:\"\n",
    "        )\n",
    "        \n",
    "    else:\n",
    "        summary_message = \"Create a summary of the conversation above:\"\n",
    "\n",
    "    # Add prompt to our history\n",
    "    messages = state[\"messages\"] + [HumanMessage(content=summary_message)]\n",
    "    response = llm.invoke(messages)\n",
    "    \n",
    "    # Delete all but the 2 most recent messages\n",
    "    delete_messages = [RemoveMessage(id=m.id) for m in state[\"messages\"][:-2]]\n",
    "    return {\"summary\": response.content, \"messages\": delete_messages}"
   ]
  },
  {
   "cell_type": "code",
   "execution_count": 20,
   "id": "6957f410",
   "metadata": {},
   "outputs": [],
   "source": [
    "from langgraph.graph import END\n",
    "# Determine whether to end or summarize the conversation\n",
    "def should_continue(state: State):\n",
    "    \n",
    "    \"\"\"Return the next node to execute.\"\"\"\n",
    "    \n",
    "    messages = state[\"messages\"]\n",
    "    \n",
    "    # If there are more than six messages, then we summarize the conversation\n",
    "    if len(messages) > 6:\n",
    "        return \"summarize_conversation\"\n",
    "    \n",
    "    # Otherwise we can just end\n",
    "    return END\n"
   ]
  },
  {
   "cell_type": "code",
   "execution_count": 21,
   "id": "f12aa336",
   "metadata": {},
   "outputs": [
    {
     "data": {
      "image/png": "[encoded data removed]",
      "text/plain": [
       "<IPython.core.display.Image object>"
      ]
     },
     "metadata": {},
     "output_type": "display_data"
    }
   ],
   "source": [
    "from IPython.display import Image, display\n",
    "from langgraph.checkpoint.memory import MemorySaver\n",
    "from langgraph.graph import StateGraph, START\n",
    "\n",
    "# Define a new graph\n",
    "workflow = StateGraph(State)\n",
    "workflow.add_node(\"conversation\", call_model)\n",
    "workflow.add_node(summarize_conversation)\n",
    "\n",
    "# Set the entrypoint as conversation\n",
    "workflow.add_edge(START, \"conversation\")\n",
    "workflow.add_conditional_edges(\"conversation\", should_continue)\n",
    "workflow.add_edge(\"summarize_conversation\", END)\n",
    "\n",
    "# Compile\n",
    "memory = MemorySaver()\n",
    "graph = workflow.compile(checkpointer=memory)\n",
    "display(Image(graph.get_graph().draw_mermaid_png()))\n"
   ]
  },
  {
   "cell_type": "code",
   "execution_count": 22,
   "id": "9e8262bd",
   "metadata": {},
   "outputs": [
    {
     "name": "stdout",
     "output_type": "stream",
     "text": [
      "==================================\u001b[1m Ai Message \u001b[0m==================================\n",
      "\n",
      "Hi Lance! It's nice to meet you. How can I help you today?\n",
      "==================================\u001b[1m Ai Message \u001b[0m==================================\n",
      "\n",
      "Your name is Lance. You just told me! 😊\n",
      "==================================\u001b[1m Ai Message \u001b[0m==================================\n",
      "\n",
      "That's awesome! They're a great team. What do you like most about the 49ers? Are you excited for the upcoming season?\n"
     ]
    }
   ],
   "source": [
    "# Create a thread\n",
    "config = {\"configurable\": {\"thread_id\": \"1\"}}\n",
    "\n",
    "# Start conversation\n",
    "input_message = HumanMessage(content=\"hi! I'm Lance\")\n",
    "output = graph.invoke({\"messages\": [input_message]}, config) \n",
    "for m in output['messages'][-1:]:\n",
    "    m.pretty_print()\n",
    "\n",
    "input_message = HumanMessage(content=\"what's my name?\")\n",
    "output = graph.invoke({\"messages\": [input_message]}, config) \n",
    "for m in output['messages'][-1:]:\n",
    "    m.pretty_print()\n",
    "\n",
    "input_message = HumanMessage(content=\"i like the 49ers!\")\n",
    "output = graph.invoke({\"messages\": [input_message]}, config) \n",
    "for m in output['messages'][-1:]:\n",
    "    m.pretty_print()"
   ]
  },
  {
   "cell_type": "code",
   "execution_count": 23,
   "id": "1fe7d42a",
   "metadata": {},
   "outputs": [
    {
     "data": {
      "text/plain": [
       "StateSnapshot(values={'messages': [HumanMessage(content=\"hi! I'm Lance\", additional_kwargs={}, response_metadata={}, id='5e84b096-59a1-4f62-b253-f57a07682900'), AIMessage(content=\"Hi Lance! It's nice to meet you. How can I help you today?\", additional_kwargs={}, response_metadata={'prompt_feedback': {'block_reason': 0, 'safety_ratings': []}, 'finish_reason': 'STOP', 'model_name': 'gemini-2.0-flash', 'safety_ratings': []}, id='run--9d96b000-d7f6-43e0-9898-9c230cbc9f7e-0', usage_metadata={'input_tokens': 6, 'output_tokens': 19, 'total_tokens': 25, 'input_token_details': {'cache_read': 0}}), HumanMessage(content=\"what's my name?\", additional_kwargs={}, response_metadata={}, id='bdef8595-03ef-4416-9dff-3f8697290f9f'), AIMessage(content='Your name is Lance. You just told me! 😊', additional_kwargs={}, response_metadata={'prompt_feedback': {'block_reason': 0, 'safety_ratings': []}, 'finish_reason': 'STOP', 'model_name': 'gemini-2.0-flash', 'safety_ratings': []}, id='run--b39318ef-fcf5-4041-a0fb-300de46b95b2-0', usage_metadata={'input_tokens': 30, 'output_tokens': 12, 'total_tokens': 42, 'input_token_details': {'cache_read': 0}}), HumanMessage(content='i like the 49ers!', additional_kwargs={}, response_metadata={}, id='dc4331d9-6377-4d63-9d42-103a3de1b73a'), AIMessage(content=\"That's awesome! They're a great team. What do you like most about the 49ers? Are you excited for the upcoming season?\", additional_kwargs={}, response_metadata={'prompt_feedback': {'block_reason': 0, 'safety_ratings': []}, 'finish_reason': 'STOP', 'model_name': 'gemini-2.0-flash', 'safety_ratings': []}, id='run--dc425dba-c8f2-46ed-a2b3-cfde904b8afe-0', usage_metadata={'input_tokens': 49, 'output_tokens': 33, 'total_tokens': 82, 'input_token_details': {'cache_read': 0}})]}, next=(), config={'configurable': {'thread_id': '1', 'checkpoint_ns': '', 'checkpoint_id': '1f02af68-7089-6612-8007-5d270b82a73c'}}, metadata={'source': 'loop', 'writes': {'conversation': {'messages': AIMessage(content=\"That's awesome! They're a great team. What do you like most about the 49ers? Are you excited for the upcoming season?\", additional_kwargs={}, response_metadata={'prompt_feedback': {'block_reason': 0, 'safety_ratings': []}, 'finish_reason': 'STOP', 'model_name': 'gemini-2.0-flash', 'safety_ratings': []}, id='run--dc425dba-c8f2-46ed-a2b3-cfde904b8afe-0', usage_metadata={'input_tokens': 49, 'output_tokens': 33, 'total_tokens': 82, 'input_token_details': {'cache_read': 0}})}}, 'step': 7, 'parents': {}, 'thread_id': '1'}, created_at='2025-05-07T03:51:16.429320+00:00', parent_config={'configurable': {'thread_id': '1', 'checkpoint_ns': '', 'checkpoint_id': '1f02af68-63b9-66c6-8006-e3107ef01965'}}, tasks=(), interrupts=())"
      ]
     },
     "execution_count": 23,
     "metadata": {},
     "output_type": "execute_result"
    }
   ],
   "source": [
    "graph.get_state(config)"
   ]
  },
  {
   "cell_type": "code",
   "execution_count": 24,
   "id": "45627c87",
   "metadata": {},
   "outputs": [
    {
     "data": {
      "text/plain": [
       "''"
      ]
     },
     "execution_count": 24,
     "metadata": {},
     "output_type": "execute_result"
    }
   ],
   "source": [
    "graph.get_state(config).values.get(\"summary\",\"\")"
   ]
  },
  {
   "cell_type": "code",
   "execution_count": 25,
   "id": "278a9734",
   "metadata": {},
   "outputs": [
    {
     "name": "stdout",
     "output_type": "stream",
     "text": [
      "==================================\u001b[1m Ai Message \u001b[0m==================================\n",
      "\n",
      "You're right, Nick Bosa is a fantastic player! And yes, he is currently the highest-paid defensive player in the NFL. He signed a massive contract extension that made him the highest-paid at his position. He's definitely a key part of the 49ers' success.\n"
     ]
    }
   ],
   "source": [
    "input_message = HumanMessage(content=\"i like Nick Bosa, isn't he the highest paid defensive player?\")\n",
    "output = graph.invoke({\"messages\": [input_message]}, config) \n",
    "for m in output['messages'][-1:]:\n",
    "    m.pretty_print()"
   ]
  },
  {
   "cell_type": "code",
   "execution_count": 26,
   "id": "e69eb3fc",
   "metadata": {},
   "outputs": [
    {
     "data": {
      "text/plain": [
       "\"Okay, here's a summary of our conversation:\\n\\nLance introduced himself. I acknowledged him and asked how I could help. He then asked me what his name was, and I reminded him that he had just told me it was Lance. He then stated he likes the 49ers, and I responded positively, asking what he liked about them and if he was excited for the season. He replied that he likes Nick Bosa and asked if he was the highest-paid defensive player, to which I confirmed that he is.\""
      ]
     },
     "execution_count": 26,
     "metadata": {},
     "output_type": "execute_result"
    }
   ],
   "source": [
    "graph.get_state(config).values.get(\"summary\",\"\")"
   ]
  },
  {
   "cell_type": "code",
   "execution_count": null,
   "id": "f9034a35",
   "metadata": {},
   "outputs": [],
   "source": []
  },
  {
   "cell_type": "markdown",
   "id": "d4f8cc91",
   "metadata": {},
   "source": [
    "### simple web rag\n"
   ]
  },
  {
   "cell_type": "code",
   "execution_count": null,
   "id": "ff573029",
   "metadata": {},
   "outputs": [],
   "source": []
  },
  {
   "cell_type": "code",
   "execution_count": null,
   "id": "7b896888",
   "metadata": {},
   "outputs": [],
   "source": [
    "class State(TypedDict):\n",
    "    question: str\n",
    "    answer: str\n",
    "    context:Annotated[list, operator.add]\n",
    "    \n",
    "graph = StateGraph(State)\n",
    "\n",
    "# Nodes\n",
    "def duckduckgo_search(state):\n",
    "    search = DuckDuckGoSearchRun()\n",
    "    question = state['question']\n",
    "    search_result = search.invoke(question)\n",
    "    return {'context': [search_result]}\n",
    "\n",
    "def wiki_search(state):\n",
    "    question = state['question']\n",
    "    documents = WikipediaLoader(question, load_max_docs=5).load()\n",
    "    search_result = []\n",
    "    for doc in documents:\n",
    "        search_result.append(doc.metadata['summary'])\n",
    "    \n",
    "    return {'context':  search_result}\n",
    "\n",
    "def model_call(state):\n",
    "    context = '\\n'.join(state['context'])\n",
    "    prompt = (f\"context: {context}\\n Answer the question: {state['question']} using the context above, if the answer does not present in the context say it\")\n",
    "    return {'answer': model.invoke(prompt)}\n",
    "\n",
    "graph.add_node('wiki', wiki_search)\n",
    "graph.add_node('duck',duckduckgo_search)\n",
    "graph.add_node('model', model_call)\n",
    "\n",
    "graph.add_edge(START, 'wiki')\n",
    "graph.add_edge(START, 'duck')\n",
    "graph.add_edge('wiki', 'model')\n",
    "graph.add_edge('duck','model')\n",
    "graph.add_edge('model',END)\n",
    "graph = graph.compile()"
   ]
  },
  {
   "cell_type": "code",
   "execution_count": 78,
   "id": "f36509e4",
   "metadata": {},
   "outputs": [
    {
     "ename": "ValueError",
     "evalue": "Failed to reach https://mermaid.ink/ API while trying to render your graph after 1 retries. To resolve this issue:\n1. Check your internet connection and try again\n2. Try with higher retry settings: `draw_mermaid_png(..., max_retries=5, retry_delay=2.0)`\n3. Use the Pyppeteer rendering method which will render your graph locally in a browser: `draw_mermaid_png(..., draw_method=MermaidDrawMethod.PYPPETEER)`",
     "output_type": "error",
     "traceback": [
      "\u001b[0;31m---------------------------------------------------------------------------\u001b[0m",
      "\u001b[0;31mtimeout\u001b[0m                                   Traceback (most recent call last)",
      "File \u001b[0;32m~/AI/PROJECTS/Simple-Multi-turn-ChatBot-with-langgraph/.venv/lib/python3.9/site-packages/urllib3/connectionpool.py:534\u001b[0m, in \u001b[0;36mHTTPConnectionPool._make_request\u001b[0;34m(self, conn, method, url, body, headers, retries, timeout, chunked, response_conn, preload_content, decode_content, enforce_content_length)\u001b[0m\n\u001b[1;32m    533\u001b[0m \u001b[38;5;28;01mtry\u001b[39;00m:\n\u001b[0;32m--> 534\u001b[0m     response \u001b[38;5;241m=\u001b[39m \u001b[43mconn\u001b[49m\u001b[38;5;241;43m.\u001b[39;49m\u001b[43mgetresponse\u001b[49m\u001b[43m(\u001b[49m\u001b[43m)\u001b[49m\n\u001b[1;32m    535\u001b[0m \u001b[38;5;28;01mexcept\u001b[39;00m (BaseSSLError, \u001b[38;5;167;01mOSError\u001b[39;00m) \u001b[38;5;28;01mas\u001b[39;00m e:\n",
      "File \u001b[0;32m~/AI/PROJECTS/Simple-Multi-turn-ChatBot-with-langgraph/.venv/lib/python3.9/site-packages/urllib3/connection.py:516\u001b[0m, in \u001b[0;36mHTTPConnection.getresponse\u001b[0;34m(self)\u001b[0m\n\u001b[1;32m    515\u001b[0m \u001b[38;5;66;03m# Get the response from http.client.HTTPConnection\u001b[39;00m\n\u001b[0;32m--> 516\u001b[0m httplib_response \u001b[38;5;241m=\u001b[39m \u001b[38;5;28;43msuper\u001b[39;49m\u001b[43m(\u001b[49m\u001b[43m)\u001b[49m\u001b[38;5;241;43m.\u001b[39;49m\u001b[43mgetresponse\u001b[49m\u001b[43m(\u001b[49m\u001b[43m)\u001b[49m\n\u001b[1;32m    518\u001b[0m \u001b[38;5;28;01mtry\u001b[39;00m:\n",
      "File \u001b[0;32m/Library/Developer/CommandLineTools/Library/Frameworks/Python3.framework/Versions/3.9/lib/python3.9/http/client.py:1349\u001b[0m, in \u001b[0;36mHTTPConnection.getresponse\u001b[0;34m(self)\u001b[0m\n\u001b[1;32m   1348\u001b[0m \u001b[38;5;28;01mtry\u001b[39;00m:\n\u001b[0;32m-> 1349\u001b[0m     \u001b[43mresponse\u001b[49m\u001b[38;5;241;43m.\u001b[39;49m\u001b[43mbegin\u001b[49m\u001b[43m(\u001b[49m\u001b[43m)\u001b[49m\n\u001b[1;32m   1350\u001b[0m \u001b[38;5;28;01mexcept\u001b[39;00m \u001b[38;5;167;01mConnectionError\u001b[39;00m:\n",
      "File \u001b[0;32m/Library/Developer/CommandLineTools/Library/Frameworks/Python3.framework/Versions/3.9/lib/python3.9/http/client.py:316\u001b[0m, in \u001b[0;36mHTTPResponse.begin\u001b[0;34m(self)\u001b[0m\n\u001b[1;32m    315\u001b[0m \u001b[38;5;28;01mwhile\u001b[39;00m \u001b[38;5;28;01mTrue\u001b[39;00m:\n\u001b[0;32m--> 316\u001b[0m     version, status, reason \u001b[38;5;241m=\u001b[39m \u001b[38;5;28;43mself\u001b[39;49m\u001b[38;5;241;43m.\u001b[39;49m\u001b[43m_read_status\u001b[49m\u001b[43m(\u001b[49m\u001b[43m)\u001b[49m\n\u001b[1;32m    317\u001b[0m     \u001b[38;5;28;01mif\u001b[39;00m status \u001b[38;5;241m!=\u001b[39m CONTINUE:\n",
      "File \u001b[0;32m/Library/Developer/CommandLineTools/Library/Frameworks/Python3.framework/Versions/3.9/lib/python3.9/http/client.py:277\u001b[0m, in \u001b[0;36mHTTPResponse._read_status\u001b[0;34m(self)\u001b[0m\n\u001b[1;32m    276\u001b[0m \u001b[38;5;28;01mdef\u001b[39;00m\u001b[38;5;250m \u001b[39m\u001b[38;5;21m_read_status\u001b[39m(\u001b[38;5;28mself\u001b[39m):\n\u001b[0;32m--> 277\u001b[0m     line \u001b[38;5;241m=\u001b[39m \u001b[38;5;28mstr\u001b[39m(\u001b[38;5;28;43mself\u001b[39;49m\u001b[38;5;241;43m.\u001b[39;49m\u001b[43mfp\u001b[49m\u001b[38;5;241;43m.\u001b[39;49m\u001b[43mreadline\u001b[49m\u001b[43m(\u001b[49m\u001b[43m_MAXLINE\u001b[49m\u001b[43m \u001b[49m\u001b[38;5;241;43m+\u001b[39;49m\u001b[43m \u001b[49m\u001b[38;5;241;43m1\u001b[39;49m\u001b[43m)\u001b[49m, \u001b[38;5;124m\"\u001b[39m\u001b[38;5;124miso-8859-1\u001b[39m\u001b[38;5;124m\"\u001b[39m)\n\u001b[1;32m    278\u001b[0m     \u001b[38;5;28;01mif\u001b[39;00m \u001b[38;5;28mlen\u001b[39m(line) \u001b[38;5;241m>\u001b[39m _MAXLINE:\n",
      "File \u001b[0;32m/Library/Developer/CommandLineTools/Library/Frameworks/Python3.framework/Versions/3.9/lib/python3.9/socket.py:704\u001b[0m, in \u001b[0;36mSocketIO.readinto\u001b[0;34m(self, b)\u001b[0m\n\u001b[1;32m    703\u001b[0m \u001b[38;5;28;01mtry\u001b[39;00m:\n\u001b[0;32m--> 704\u001b[0m     \u001b[38;5;28;01mreturn\u001b[39;00m \u001b[38;5;28;43mself\u001b[39;49m\u001b[38;5;241;43m.\u001b[39;49m\u001b[43m_sock\u001b[49m\u001b[38;5;241;43m.\u001b[39;49m\u001b[43mrecv_into\u001b[49m\u001b[43m(\u001b[49m\u001b[43mb\u001b[49m\u001b[43m)\u001b[49m\n\u001b[1;32m    705\u001b[0m \u001b[38;5;28;01mexcept\u001b[39;00m timeout:\n",
      "File \u001b[0;32m/Library/Developer/CommandLineTools/Library/Frameworks/Python3.framework/Versions/3.9/lib/python3.9/ssl.py:1241\u001b[0m, in \u001b[0;36mSSLSocket.recv_into\u001b[0;34m(self, buffer, nbytes, flags)\u001b[0m\n\u001b[1;32m   1238\u001b[0m         \u001b[38;5;28;01mraise\u001b[39;00m \u001b[38;5;167;01mValueError\u001b[39;00m(\n\u001b[1;32m   1239\u001b[0m           \u001b[38;5;124m\"\u001b[39m\u001b[38;5;124mnon-zero flags not allowed in calls to recv_into() on \u001b[39m\u001b[38;5;132;01m%s\u001b[39;00m\u001b[38;5;124m\"\u001b[39m \u001b[38;5;241m%\u001b[39m\n\u001b[1;32m   1240\u001b[0m           \u001b[38;5;28mself\u001b[39m\u001b[38;5;241m.\u001b[39m\u001b[38;5;18m__class__\u001b[39m)\n\u001b[0;32m-> 1241\u001b[0m     \u001b[38;5;28;01mreturn\u001b[39;00m \u001b[38;5;28;43mself\u001b[39;49m\u001b[38;5;241;43m.\u001b[39;49m\u001b[43mread\u001b[49m\u001b[43m(\u001b[49m\u001b[43mnbytes\u001b[49m\u001b[43m,\u001b[49m\u001b[43m \u001b[49m\u001b[43mbuffer\u001b[49m\u001b[43m)\u001b[49m\n\u001b[1;32m   1242\u001b[0m \u001b[38;5;28;01melse\u001b[39;00m:\n",
      "File \u001b[0;32m/Library/Developer/CommandLineTools/Library/Frameworks/Python3.framework/Versions/3.9/lib/python3.9/ssl.py:1099\u001b[0m, in \u001b[0;36mSSLSocket.read\u001b[0;34m(self, len, buffer)\u001b[0m\n\u001b[1;32m   1098\u001b[0m \u001b[38;5;28;01mif\u001b[39;00m buffer \u001b[38;5;129;01mis\u001b[39;00m \u001b[38;5;129;01mnot\u001b[39;00m \u001b[38;5;28;01mNone\u001b[39;00m:\n\u001b[0;32m-> 1099\u001b[0m     \u001b[38;5;28;01mreturn\u001b[39;00m \u001b[38;5;28;43mself\u001b[39;49m\u001b[38;5;241;43m.\u001b[39;49m\u001b[43m_sslobj\u001b[49m\u001b[38;5;241;43m.\u001b[39;49m\u001b[43mread\u001b[49m\u001b[43m(\u001b[49m\u001b[38;5;28;43mlen\u001b[39;49m\u001b[43m,\u001b[49m\u001b[43m \u001b[49m\u001b[43mbuffer\u001b[49m\u001b[43m)\u001b[49m\n\u001b[1;32m   1100\u001b[0m \u001b[38;5;28;01melse\u001b[39;00m:\n",
      "\u001b[0;31mtimeout\u001b[0m: The read operation timed out",
      "\nThe above exception was the direct cause of the following exception:\n",
      "\u001b[0;31mReadTimeoutError\u001b[0m                          Traceback (most recent call last)",
      "File \u001b[0;32m~/AI/PROJECTS/Simple-Multi-turn-ChatBot-with-langgraph/.venv/lib/python3.9/site-packages/requests/adapters.py:667\u001b[0m, in \u001b[0;36mHTTPAdapter.send\u001b[0;34m(self, request, stream, timeout, verify, cert, proxies)\u001b[0m\n\u001b[1;32m    666\u001b[0m \u001b[38;5;28;01mtry\u001b[39;00m:\n\u001b[0;32m--> 667\u001b[0m     resp \u001b[38;5;241m=\u001b[39m \u001b[43mconn\u001b[49m\u001b[38;5;241;43m.\u001b[39;49m\u001b[43murlopen\u001b[49m\u001b[43m(\u001b[49m\n\u001b[1;32m    668\u001b[0m \u001b[43m        \u001b[49m\u001b[43mmethod\u001b[49m\u001b[38;5;241;43m=\u001b[39;49m\u001b[43mrequest\u001b[49m\u001b[38;5;241;43m.\u001b[39;49m\u001b[43mmethod\u001b[49m\u001b[43m,\u001b[49m\n\u001b[1;32m    669\u001b[0m \u001b[43m        \u001b[49m\u001b[43murl\u001b[49m\u001b[38;5;241;43m=\u001b[39;49m\u001b[43murl\u001b[49m\u001b[43m,\u001b[49m\n\u001b[1;32m    670\u001b[0m \u001b[43m        \u001b[49m\u001b[43mbody\u001b[49m\u001b[38;5;241;43m=\u001b[39;49m\u001b[43mrequest\u001b[49m\u001b[38;5;241;43m.\u001b[39;49m\u001b[43mbody\u001b[49m\u001b[43m,\u001b[49m\n\u001b[1;32m    671\u001b[0m \u001b[43m        \u001b[49m\u001b[43mheaders\u001b[49m\u001b[38;5;241;43m=\u001b[39;49m\u001b[43mrequest\u001b[49m\u001b[38;5;241;43m.\u001b[39;49m\u001b[43mheaders\u001b[49m\u001b[43m,\u001b[49m\n\u001b[1;32m    672\u001b[0m \u001b[43m        \u001b[49m\u001b[43mredirect\u001b[49m\u001b[38;5;241;43m=\u001b[39;49m\u001b[38;5;28;43;01mFalse\u001b[39;49;00m\u001b[43m,\u001b[49m\n\u001b[1;32m    673\u001b[0m \u001b[43m        \u001b[49m\u001b[43massert_same_host\u001b[49m\u001b[38;5;241;43m=\u001b[39;49m\u001b[38;5;28;43;01mFalse\u001b[39;49;00m\u001b[43m,\u001b[49m\n\u001b[1;32m    674\u001b[0m \u001b[43m        \u001b[49m\u001b[43mpreload_content\u001b[49m\u001b[38;5;241;43m=\u001b[39;49m\u001b[38;5;28;43;01mFalse\u001b[39;49;00m\u001b[43m,\u001b[49m\n\u001b[1;32m    675\u001b[0m \u001b[43m        \u001b[49m\u001b[43mdecode_content\u001b[49m\u001b[38;5;241;43m=\u001b[39;49m\u001b[38;5;28;43;01mFalse\u001b[39;49;00m\u001b[43m,\u001b[49m\n\u001b[1;32m    676\u001b[0m \u001b[43m        \u001b[49m\u001b[43mretries\u001b[49m\u001b[38;5;241;43m=\u001b[39;49m\u001b[38;5;28;43mself\u001b[39;49m\u001b[38;5;241;43m.\u001b[39;49m\u001b[43mmax_retries\u001b[49m\u001b[43m,\u001b[49m\n\u001b[1;32m    677\u001b[0m \u001b[43m        \u001b[49m\u001b[43mtimeout\u001b[49m\u001b[38;5;241;43m=\u001b[39;49m\u001b[43mtimeout\u001b[49m\u001b[43m,\u001b[49m\n\u001b[1;32m    678\u001b[0m \u001b[43m        \u001b[49m\u001b[43mchunked\u001b[49m\u001b[38;5;241;43m=\u001b[39;49m\u001b[43mchunked\u001b[49m\u001b[43m,\u001b[49m\n\u001b[1;32m    679\u001b[0m \u001b[43m    \u001b[49m\u001b[43m)\u001b[49m\n\u001b[1;32m    681\u001b[0m \u001b[38;5;28;01mexcept\u001b[39;00m (ProtocolError, \u001b[38;5;167;01mOSError\u001b[39;00m) \u001b[38;5;28;01mas\u001b[39;00m err:\n",
      "File \u001b[0;32m~/AI/PROJECTS/Simple-Multi-turn-ChatBot-with-langgraph/.venv/lib/python3.9/site-packages/urllib3/connectionpool.py:841\u001b[0m, in \u001b[0;36mHTTPConnectionPool.urlopen\u001b[0;34m(self, method, url, body, headers, retries, redirect, assert_same_host, timeout, pool_timeout, release_conn, chunked, body_pos, preload_content, decode_content, **response_kw)\u001b[0m\n\u001b[1;32m    839\u001b[0m     new_e \u001b[38;5;241m=\u001b[39m ProtocolError(\u001b[38;5;124m\"\u001b[39m\u001b[38;5;124mConnection aborted.\u001b[39m\u001b[38;5;124m\"\u001b[39m, new_e)\n\u001b[0;32m--> 841\u001b[0m retries \u001b[38;5;241m=\u001b[39m \u001b[43mretries\u001b[49m\u001b[38;5;241;43m.\u001b[39;49m\u001b[43mincrement\u001b[49m\u001b[43m(\u001b[49m\n\u001b[1;32m    842\u001b[0m \u001b[43m    \u001b[49m\u001b[43mmethod\u001b[49m\u001b[43m,\u001b[49m\u001b[43m \u001b[49m\u001b[43murl\u001b[49m\u001b[43m,\u001b[49m\u001b[43m \u001b[49m\u001b[43merror\u001b[49m\u001b[38;5;241;43m=\u001b[39;49m\u001b[43mnew_e\u001b[49m\u001b[43m,\u001b[49m\u001b[43m \u001b[49m\u001b[43m_pool\u001b[49m\u001b[38;5;241;43m=\u001b[39;49m\u001b[38;5;28;43mself\u001b[39;49m\u001b[43m,\u001b[49m\u001b[43m \u001b[49m\u001b[43m_stacktrace\u001b[49m\u001b[38;5;241;43m=\u001b[39;49m\u001b[43msys\u001b[49m\u001b[38;5;241;43m.\u001b[39;49m\u001b[43mexc_info\u001b[49m\u001b[43m(\u001b[49m\u001b[43m)\u001b[49m\u001b[43m[\u001b[49m\u001b[38;5;241;43m2\u001b[39;49m\u001b[43m]\u001b[49m\n\u001b[1;32m    843\u001b[0m \u001b[43m\u001b[49m\u001b[43m)\u001b[49m\n\u001b[1;32m    844\u001b[0m retries\u001b[38;5;241m.\u001b[39msleep()\n",
      "File \u001b[0;32m~/AI/PROJECTS/Simple-Multi-turn-ChatBot-with-langgraph/.venv/lib/python3.9/site-packages/urllib3/util/retry.py:474\u001b[0m, in \u001b[0;36mRetry.increment\u001b[0;34m(self, method, url, response, error, _pool, _stacktrace)\u001b[0m\n\u001b[1;32m    473\u001b[0m \u001b[38;5;28;01mif\u001b[39;00m read \u001b[38;5;129;01mis\u001b[39;00m \u001b[38;5;28;01mFalse\u001b[39;00m \u001b[38;5;129;01mor\u001b[39;00m method \u001b[38;5;129;01mis\u001b[39;00m \u001b[38;5;28;01mNone\u001b[39;00m \u001b[38;5;129;01mor\u001b[39;00m \u001b[38;5;129;01mnot\u001b[39;00m \u001b[38;5;28mself\u001b[39m\u001b[38;5;241m.\u001b[39m_is_method_retryable(method):\n\u001b[0;32m--> 474\u001b[0m     \u001b[38;5;28;01mraise\u001b[39;00m \u001b[43mreraise\u001b[49m\u001b[43m(\u001b[49m\u001b[38;5;28;43mtype\u001b[39;49m\u001b[43m(\u001b[49m\u001b[43merror\u001b[49m\u001b[43m)\u001b[49m\u001b[43m,\u001b[49m\u001b[43m \u001b[49m\u001b[43merror\u001b[49m\u001b[43m,\u001b[49m\u001b[43m \u001b[49m\u001b[43m_stacktrace\u001b[49m\u001b[43m)\u001b[49m\n\u001b[1;32m    475\u001b[0m \u001b[38;5;28;01melif\u001b[39;00m read \u001b[38;5;129;01mis\u001b[39;00m \u001b[38;5;129;01mnot\u001b[39;00m \u001b[38;5;28;01mNone\u001b[39;00m:\n",
      "File \u001b[0;32m~/AI/PROJECTS/Simple-Multi-turn-ChatBot-with-langgraph/.venv/lib/python3.9/site-packages/urllib3/util/util.py:39\u001b[0m, in \u001b[0;36mreraise\u001b[0;34m(tp, value, tb)\u001b[0m\n\u001b[1;32m     38\u001b[0m         \u001b[38;5;28;01mraise\u001b[39;00m value\u001b[38;5;241m.\u001b[39mwith_traceback(tb)\n\u001b[0;32m---> 39\u001b[0m     \u001b[38;5;28;01mraise\u001b[39;00m value\n\u001b[1;32m     40\u001b[0m \u001b[38;5;28;01mfinally\u001b[39;00m:\n",
      "File \u001b[0;32m~/AI/PROJECTS/Simple-Multi-turn-ChatBot-with-langgraph/.venv/lib/python3.9/site-packages/urllib3/connectionpool.py:787\u001b[0m, in \u001b[0;36mHTTPConnectionPool.urlopen\u001b[0;34m(self, method, url, body, headers, retries, redirect, assert_same_host, timeout, pool_timeout, release_conn, chunked, body_pos, preload_content, decode_content, **response_kw)\u001b[0m\n\u001b[1;32m    786\u001b[0m \u001b[38;5;66;03m# Make the request on the HTTPConnection object\u001b[39;00m\n\u001b[0;32m--> 787\u001b[0m response \u001b[38;5;241m=\u001b[39m \u001b[38;5;28;43mself\u001b[39;49m\u001b[38;5;241;43m.\u001b[39;49m\u001b[43m_make_request\u001b[49m\u001b[43m(\u001b[49m\n\u001b[1;32m    788\u001b[0m \u001b[43m    \u001b[49m\u001b[43mconn\u001b[49m\u001b[43m,\u001b[49m\n\u001b[1;32m    789\u001b[0m \u001b[43m    \u001b[49m\u001b[43mmethod\u001b[49m\u001b[43m,\u001b[49m\n\u001b[1;32m    790\u001b[0m \u001b[43m    \u001b[49m\u001b[43murl\u001b[49m\u001b[43m,\u001b[49m\n\u001b[1;32m    791\u001b[0m \u001b[43m    \u001b[49m\u001b[43mtimeout\u001b[49m\u001b[38;5;241;43m=\u001b[39;49m\u001b[43mtimeout_obj\u001b[49m\u001b[43m,\u001b[49m\n\u001b[1;32m    792\u001b[0m \u001b[43m    \u001b[49m\u001b[43mbody\u001b[49m\u001b[38;5;241;43m=\u001b[39;49m\u001b[43mbody\u001b[49m\u001b[43m,\u001b[49m\n\u001b[1;32m    793\u001b[0m \u001b[43m    \u001b[49m\u001b[43mheaders\u001b[49m\u001b[38;5;241;43m=\u001b[39;49m\u001b[43mheaders\u001b[49m\u001b[43m,\u001b[49m\n\u001b[1;32m    794\u001b[0m \u001b[43m    \u001b[49m\u001b[43mchunked\u001b[49m\u001b[38;5;241;43m=\u001b[39;49m\u001b[43mchunked\u001b[49m\u001b[43m,\u001b[49m\n\u001b[1;32m    795\u001b[0m \u001b[43m    \u001b[49m\u001b[43mretries\u001b[49m\u001b[38;5;241;43m=\u001b[39;49m\u001b[43mretries\u001b[49m\u001b[43m,\u001b[49m\n\u001b[1;32m    796\u001b[0m \u001b[43m    \u001b[49m\u001b[43mresponse_conn\u001b[49m\u001b[38;5;241;43m=\u001b[39;49m\u001b[43mresponse_conn\u001b[49m\u001b[43m,\u001b[49m\n\u001b[1;32m    797\u001b[0m \u001b[43m    \u001b[49m\u001b[43mpreload_content\u001b[49m\u001b[38;5;241;43m=\u001b[39;49m\u001b[43mpreload_content\u001b[49m\u001b[43m,\u001b[49m\n\u001b[1;32m    798\u001b[0m \u001b[43m    \u001b[49m\u001b[43mdecode_content\u001b[49m\u001b[38;5;241;43m=\u001b[39;49m\u001b[43mdecode_content\u001b[49m\u001b[43m,\u001b[49m\n\u001b[1;32m    799\u001b[0m \u001b[43m    \u001b[49m\u001b[38;5;241;43m*\u001b[39;49m\u001b[38;5;241;43m*\u001b[39;49m\u001b[43mresponse_kw\u001b[49m\u001b[43m,\u001b[49m\n\u001b[1;32m    800\u001b[0m \u001b[43m\u001b[49m\u001b[43m)\u001b[49m\n\u001b[1;32m    802\u001b[0m \u001b[38;5;66;03m# Everything went great!\u001b[39;00m\n",
      "File \u001b[0;32m~/AI/PROJECTS/Simple-Multi-turn-ChatBot-with-langgraph/.venv/lib/python3.9/site-packages/urllib3/connectionpool.py:536\u001b[0m, in \u001b[0;36mHTTPConnectionPool._make_request\u001b[0;34m(self, conn, method, url, body, headers, retries, timeout, chunked, response_conn, preload_content, decode_content, enforce_content_length)\u001b[0m\n\u001b[1;32m    535\u001b[0m \u001b[38;5;28;01mexcept\u001b[39;00m (BaseSSLError, \u001b[38;5;167;01mOSError\u001b[39;00m) \u001b[38;5;28;01mas\u001b[39;00m e:\n\u001b[0;32m--> 536\u001b[0m     \u001b[38;5;28;43mself\u001b[39;49m\u001b[38;5;241;43m.\u001b[39;49m\u001b[43m_raise_timeout\u001b[49m\u001b[43m(\u001b[49m\u001b[43merr\u001b[49m\u001b[38;5;241;43m=\u001b[39;49m\u001b[43me\u001b[49m\u001b[43m,\u001b[49m\u001b[43m \u001b[49m\u001b[43murl\u001b[49m\u001b[38;5;241;43m=\u001b[39;49m\u001b[43murl\u001b[49m\u001b[43m,\u001b[49m\u001b[43m \u001b[49m\u001b[43mtimeout_value\u001b[49m\u001b[38;5;241;43m=\u001b[39;49m\u001b[43mread_timeout\u001b[49m\u001b[43m)\u001b[49m\n\u001b[1;32m    537\u001b[0m     \u001b[38;5;28;01mraise\u001b[39;00m\n",
      "File \u001b[0;32m~/AI/PROJECTS/Simple-Multi-turn-ChatBot-with-langgraph/.venv/lib/python3.9/site-packages/urllib3/connectionpool.py:367\u001b[0m, in \u001b[0;36mHTTPConnectionPool._raise_timeout\u001b[0;34m(self, err, url, timeout_value)\u001b[0m\n\u001b[1;32m    366\u001b[0m \u001b[38;5;28;01mif\u001b[39;00m \u001b[38;5;28misinstance\u001b[39m(err, SocketTimeout):\n\u001b[0;32m--> 367\u001b[0m     \u001b[38;5;28;01mraise\u001b[39;00m ReadTimeoutError(\n\u001b[1;32m    368\u001b[0m         \u001b[38;5;28mself\u001b[39m, url, \u001b[38;5;124mf\u001b[39m\u001b[38;5;124m\"\u001b[39m\u001b[38;5;124mRead timed out. (read timeout=\u001b[39m\u001b[38;5;132;01m{\u001b[39;00mtimeout_value\u001b[38;5;132;01m}\u001b[39;00m\u001b[38;5;124m)\u001b[39m\u001b[38;5;124m\"\u001b[39m\n\u001b[1;32m    369\u001b[0m     ) \u001b[38;5;28;01mfrom\u001b[39;00m\u001b[38;5;250m \u001b[39m\u001b[38;5;21;01merr\u001b[39;00m\n\u001b[1;32m    371\u001b[0m \u001b[38;5;66;03m# See the above comment about EAGAIN in Python 3.\u001b[39;00m\n",
      "\u001b[0;31mReadTimeoutError\u001b[0m: HTTPSConnectionPool(host='mermaid.ink', port=443): Read timed out. (read timeout=10)",
      "\nDuring handling of the above exception, another exception occurred:\n",
      "\u001b[0;31mReadTimeout\u001b[0m                               Traceback (most recent call last)",
      "File \u001b[0;32m~/AI/PROJECTS/Simple-Multi-turn-ChatBot-with-langgraph/.venv/lib/python3.9/site-packages/langchain_core/runnables/graph_mermaid.py:430\u001b[0m, in \u001b[0;36m_render_mermaid_using_api\u001b[0;34m(mermaid_syntax, output_file_path, background_color, file_type, max_retries, retry_delay)\u001b[0m\n\u001b[1;32m    429\u001b[0m \u001b[38;5;28;01mtry\u001b[39;00m:\n\u001b[0;32m--> 430\u001b[0m     response \u001b[38;5;241m=\u001b[39m \u001b[43mrequests\u001b[49m\u001b[38;5;241;43m.\u001b[39;49m\u001b[43mget\u001b[49m\u001b[43m(\u001b[49m\u001b[43mimage_url\u001b[49m\u001b[43m,\u001b[49m\u001b[43m \u001b[49m\u001b[43mtimeout\u001b[49m\u001b[38;5;241;43m=\u001b[39;49m\u001b[38;5;241;43m10\u001b[39;49m\u001b[43m)\u001b[49m\n\u001b[1;32m    431\u001b[0m     \u001b[38;5;28;01mif\u001b[39;00m response\u001b[38;5;241m.\u001b[39mstatus_code \u001b[38;5;241m==\u001b[39m requests\u001b[38;5;241m.\u001b[39mcodes\u001b[38;5;241m.\u001b[39mok:\n",
      "File \u001b[0;32m~/AI/PROJECTS/Simple-Multi-turn-ChatBot-with-langgraph/.venv/lib/python3.9/site-packages/requests/api.py:73\u001b[0m, in \u001b[0;36mget\u001b[0;34m(url, params, **kwargs)\u001b[0m\n\u001b[1;32m     63\u001b[0m \u001b[38;5;250m\u001b[39m\u001b[38;5;124mr\u001b[39m\u001b[38;5;124;03m\"\"\"Sends a GET request.\u001b[39;00m\n\u001b[1;32m     64\u001b[0m \n\u001b[1;32m     65\u001b[0m \u001b[38;5;124;03m:param url: URL for the new :class:`Request` object.\u001b[39;00m\n\u001b[0;32m   (...)\u001b[0m\n\u001b[1;32m     70\u001b[0m \u001b[38;5;124;03m:rtype: requests.Response\u001b[39;00m\n\u001b[1;32m     71\u001b[0m \u001b[38;5;124;03m\"\"\"\u001b[39;00m\n\u001b[0;32m---> 73\u001b[0m \u001b[38;5;28;01mreturn\u001b[39;00m \u001b[43mrequest\u001b[49m\u001b[43m(\u001b[49m\u001b[38;5;124;43m\"\u001b[39;49m\u001b[38;5;124;43mget\u001b[39;49m\u001b[38;5;124;43m\"\u001b[39;49m\u001b[43m,\u001b[49m\u001b[43m \u001b[49m\u001b[43murl\u001b[49m\u001b[43m,\u001b[49m\u001b[43m \u001b[49m\u001b[43mparams\u001b[49m\u001b[38;5;241;43m=\u001b[39;49m\u001b[43mparams\u001b[49m\u001b[43m,\u001b[49m\u001b[43m \u001b[49m\u001b[38;5;241;43m*\u001b[39;49m\u001b[38;5;241;43m*\u001b[39;49m\u001b[43mkwargs\u001b[49m\u001b[43m)\u001b[49m\n",
      "File \u001b[0;32m~/AI/PROJECTS/Simple-Multi-turn-ChatBot-with-langgraph/.venv/lib/python3.9/site-packages/requests/api.py:59\u001b[0m, in \u001b[0;36mrequest\u001b[0;34m(method, url, **kwargs)\u001b[0m\n\u001b[1;32m     58\u001b[0m \u001b[38;5;28;01mwith\u001b[39;00m sessions\u001b[38;5;241m.\u001b[39mSession() \u001b[38;5;28;01mas\u001b[39;00m session:\n\u001b[0;32m---> 59\u001b[0m     \u001b[38;5;28;01mreturn\u001b[39;00m \u001b[43msession\u001b[49m\u001b[38;5;241;43m.\u001b[39;49m\u001b[43mrequest\u001b[49m\u001b[43m(\u001b[49m\u001b[43mmethod\u001b[49m\u001b[38;5;241;43m=\u001b[39;49m\u001b[43mmethod\u001b[49m\u001b[43m,\u001b[49m\u001b[43m \u001b[49m\u001b[43murl\u001b[49m\u001b[38;5;241;43m=\u001b[39;49m\u001b[43murl\u001b[49m\u001b[43m,\u001b[49m\u001b[43m \u001b[49m\u001b[38;5;241;43m*\u001b[39;49m\u001b[38;5;241;43m*\u001b[39;49m\u001b[43mkwargs\u001b[49m\u001b[43m)\u001b[49m\n",
      "File \u001b[0;32m~/AI/PROJECTS/Simple-Multi-turn-ChatBot-with-langgraph/.venv/lib/python3.9/site-packages/requests/sessions.py:589\u001b[0m, in \u001b[0;36mSession.request\u001b[0;34m(self, method, url, params, data, headers, cookies, files, auth, timeout, allow_redirects, proxies, hooks, stream, verify, cert, json)\u001b[0m\n\u001b[1;32m    588\u001b[0m send_kwargs\u001b[38;5;241m.\u001b[39mupdate(settings)\n\u001b[0;32m--> 589\u001b[0m resp \u001b[38;5;241m=\u001b[39m \u001b[38;5;28;43mself\u001b[39;49m\u001b[38;5;241;43m.\u001b[39;49m\u001b[43msend\u001b[49m\u001b[43m(\u001b[49m\u001b[43mprep\u001b[49m\u001b[43m,\u001b[49m\u001b[43m \u001b[49m\u001b[38;5;241;43m*\u001b[39;49m\u001b[38;5;241;43m*\u001b[39;49m\u001b[43msend_kwargs\u001b[49m\u001b[43m)\u001b[49m\n\u001b[1;32m    591\u001b[0m \u001b[38;5;28;01mreturn\u001b[39;00m resp\n",
      "File \u001b[0;32m~/AI/PROJECTS/Simple-Multi-turn-ChatBot-with-langgraph/.venv/lib/python3.9/site-packages/requests/sessions.py:703\u001b[0m, in \u001b[0;36mSession.send\u001b[0;34m(self, request, **kwargs)\u001b[0m\n\u001b[1;32m    702\u001b[0m \u001b[38;5;66;03m# Send the request\u001b[39;00m\n\u001b[0;32m--> 703\u001b[0m r \u001b[38;5;241m=\u001b[39m \u001b[43madapter\u001b[49m\u001b[38;5;241;43m.\u001b[39;49m\u001b[43msend\u001b[49m\u001b[43m(\u001b[49m\u001b[43mrequest\u001b[49m\u001b[43m,\u001b[49m\u001b[43m \u001b[49m\u001b[38;5;241;43m*\u001b[39;49m\u001b[38;5;241;43m*\u001b[39;49m\u001b[43mkwargs\u001b[49m\u001b[43m)\u001b[49m\n\u001b[1;32m    705\u001b[0m \u001b[38;5;66;03m# Total elapsed time of the request (approximately)\u001b[39;00m\n",
      "File \u001b[0;32m~/AI/PROJECTS/Simple-Multi-turn-ChatBot-with-langgraph/.venv/lib/python3.9/site-packages/requests/adapters.py:713\u001b[0m, in \u001b[0;36mHTTPAdapter.send\u001b[0;34m(self, request, stream, timeout, verify, cert, proxies)\u001b[0m\n\u001b[1;32m    712\u001b[0m \u001b[38;5;28;01melif\u001b[39;00m \u001b[38;5;28misinstance\u001b[39m(e, ReadTimeoutError):\n\u001b[0;32m--> 713\u001b[0m     \u001b[38;5;28;01mraise\u001b[39;00m ReadTimeout(e, request\u001b[38;5;241m=\u001b[39mrequest)\n\u001b[1;32m    714\u001b[0m \u001b[38;5;28;01melif\u001b[39;00m \u001b[38;5;28misinstance\u001b[39m(e, _InvalidHeader):\n",
      "\u001b[0;31mReadTimeout\u001b[0m: HTTPSConnectionPool(host='mermaid.ink', port=443): Read timed out. (read timeout=10)",
      "\nThe above exception was the direct cause of the following exception:\n",
      "\u001b[0;31mValueError\u001b[0m                                Traceback (most recent call last)",
      "Cell \u001b[0;32mIn[78], line 1\u001b[0m\n\u001b[0;32m----> 1\u001b[0m display(Image(\u001b[43mgraph\u001b[49m\u001b[38;5;241;43m.\u001b[39;49m\u001b[43mget_graph\u001b[49m\u001b[43m(\u001b[49m\u001b[43m)\u001b[49m\u001b[38;5;241;43m.\u001b[39;49m\u001b[43mdraw_mermaid_png\u001b[49m\u001b[43m(\u001b[49m\u001b[43m)\u001b[49m))\n",
      "File \u001b[0;32m~/AI/PROJECTS/Simple-Multi-turn-ChatBot-with-langgraph/.venv/lib/python3.9/site-packages/langchain_core/runnables/graph.py:685\u001b[0m, in \u001b[0;36mGraph.draw_mermaid_png\u001b[0;34m(self, curve_style, node_colors, wrap_label_n_words, output_file_path, draw_method, background_color, padding, max_retries, retry_delay, frontmatter_config)\u001b[0m\n\u001b[1;32m    677\u001b[0m \u001b[38;5;28;01mfrom\u001b[39;00m\u001b[38;5;250m \u001b[39m\u001b[38;5;21;01mlangchain_core\u001b[39;00m\u001b[38;5;21;01m.\u001b[39;00m\u001b[38;5;21;01mrunnables\u001b[39;00m\u001b[38;5;21;01m.\u001b[39;00m\u001b[38;5;21;01mgraph_mermaid\u001b[39;00m\u001b[38;5;250m \u001b[39m\u001b[38;5;28;01mimport\u001b[39;00m draw_mermaid_png\n\u001b[1;32m    679\u001b[0m mermaid_syntax \u001b[38;5;241m=\u001b[39m \u001b[38;5;28mself\u001b[39m\u001b[38;5;241m.\u001b[39mdraw_mermaid(\n\u001b[1;32m    680\u001b[0m     curve_style\u001b[38;5;241m=\u001b[39mcurve_style,\n\u001b[1;32m    681\u001b[0m     node_colors\u001b[38;5;241m=\u001b[39mnode_colors,\n\u001b[1;32m    682\u001b[0m     wrap_label_n_words\u001b[38;5;241m=\u001b[39mwrap_label_n_words,\n\u001b[1;32m    683\u001b[0m     frontmatter_config\u001b[38;5;241m=\u001b[39mfrontmatter_config,\n\u001b[1;32m    684\u001b[0m )\n\u001b[0;32m--> 685\u001b[0m \u001b[38;5;28;01mreturn\u001b[39;00m \u001b[43mdraw_mermaid_png\u001b[49m\u001b[43m(\u001b[49m\n\u001b[1;32m    686\u001b[0m \u001b[43m    \u001b[49m\u001b[43mmermaid_syntax\u001b[49m\u001b[38;5;241;43m=\u001b[39;49m\u001b[43mmermaid_syntax\u001b[49m\u001b[43m,\u001b[49m\n\u001b[1;32m    687\u001b[0m \u001b[43m    \u001b[49m\u001b[43moutput_file_path\u001b[49m\u001b[38;5;241;43m=\u001b[39;49m\u001b[43moutput_file_path\u001b[49m\u001b[43m,\u001b[49m\n\u001b[1;32m    688\u001b[0m \u001b[43m    \u001b[49m\u001b[43mdraw_method\u001b[49m\u001b[38;5;241;43m=\u001b[39;49m\u001b[43mdraw_method\u001b[49m\u001b[43m,\u001b[49m\n\u001b[1;32m    689\u001b[0m \u001b[43m    \u001b[49m\u001b[43mbackground_color\u001b[49m\u001b[38;5;241;43m=\u001b[39;49m\u001b[43mbackground_color\u001b[49m\u001b[43m,\u001b[49m\n\u001b[1;32m    690\u001b[0m \u001b[43m    \u001b[49m\u001b[43mpadding\u001b[49m\u001b[38;5;241;43m=\u001b[39;49m\u001b[43mpadding\u001b[49m\u001b[43m,\u001b[49m\n\u001b[1;32m    691\u001b[0m \u001b[43m    \u001b[49m\u001b[43mmax_retries\u001b[49m\u001b[38;5;241;43m=\u001b[39;49m\u001b[43mmax_retries\u001b[49m\u001b[43m,\u001b[49m\n\u001b[1;32m    692\u001b[0m \u001b[43m    \u001b[49m\u001b[43mretry_delay\u001b[49m\u001b[38;5;241;43m=\u001b[39;49m\u001b[43mretry_delay\u001b[49m\u001b[43m,\u001b[49m\n\u001b[1;32m    693\u001b[0m \u001b[43m\u001b[49m\u001b[43m)\u001b[49m\n",
      "File \u001b[0;32m~/AI/PROJECTS/Simple-Multi-turn-ChatBot-with-langgraph/.venv/lib/python3.9/site-packages/langchain_core/runnables/graph_mermaid.py:293\u001b[0m, in \u001b[0;36mdraw_mermaid_png\u001b[0;34m(mermaid_syntax, output_file_path, draw_method, background_color, padding, max_retries, retry_delay)\u001b[0m\n\u001b[1;32m    287\u001b[0m     img_bytes \u001b[38;5;241m=\u001b[39m asyncio\u001b[38;5;241m.\u001b[39mrun(\n\u001b[1;32m    288\u001b[0m         _render_mermaid_using_pyppeteer(\n\u001b[1;32m    289\u001b[0m             mermaid_syntax, output_file_path, background_color, padding\n\u001b[1;32m    290\u001b[0m         )\n\u001b[1;32m    291\u001b[0m     )\n\u001b[1;32m    292\u001b[0m \u001b[38;5;28;01melif\u001b[39;00m draw_method \u001b[38;5;241m==\u001b[39m MermaidDrawMethod\u001b[38;5;241m.\u001b[39mAPI:\n\u001b[0;32m--> 293\u001b[0m     img_bytes \u001b[38;5;241m=\u001b[39m \u001b[43m_render_mermaid_using_api\u001b[49m\u001b[43m(\u001b[49m\n\u001b[1;32m    294\u001b[0m \u001b[43m        \u001b[49m\u001b[43mmermaid_syntax\u001b[49m\u001b[43m,\u001b[49m\n\u001b[1;32m    295\u001b[0m \u001b[43m        \u001b[49m\u001b[43moutput_file_path\u001b[49m\u001b[38;5;241;43m=\u001b[39;49m\u001b[43moutput_file_path\u001b[49m\u001b[43m,\u001b[49m\n\u001b[1;32m    296\u001b[0m \u001b[43m        \u001b[49m\u001b[43mbackground_color\u001b[49m\u001b[38;5;241;43m=\u001b[39;49m\u001b[43mbackground_color\u001b[49m\u001b[43m,\u001b[49m\n\u001b[1;32m    297\u001b[0m \u001b[43m        \u001b[49m\u001b[43mmax_retries\u001b[49m\u001b[38;5;241;43m=\u001b[39;49m\u001b[43mmax_retries\u001b[49m\u001b[43m,\u001b[49m\n\u001b[1;32m    298\u001b[0m \u001b[43m        \u001b[49m\u001b[43mretry_delay\u001b[49m\u001b[38;5;241;43m=\u001b[39;49m\u001b[43mretry_delay\u001b[49m\u001b[43m,\u001b[49m\n\u001b[1;32m    299\u001b[0m \u001b[43m    \u001b[49m\u001b[43m)\u001b[49m\n\u001b[1;32m    300\u001b[0m \u001b[38;5;28;01melse\u001b[39;00m:\n\u001b[1;32m    301\u001b[0m     supported_methods \u001b[38;5;241m=\u001b[39m \u001b[38;5;124m\"\u001b[39m\u001b[38;5;124m, \u001b[39m\u001b[38;5;124m\"\u001b[39m\u001b[38;5;241m.\u001b[39mjoin([m\u001b[38;5;241m.\u001b[39mvalue \u001b[38;5;28;01mfor\u001b[39;00m m \u001b[38;5;129;01min\u001b[39;00m MermaidDrawMethod])\n",
      "File \u001b[0;32m~/AI/PROJECTS/Simple-Multi-turn-ChatBot-with-langgraph/.venv/lib/python3.9/site-packages/langchain_core/runnables/graph_mermaid.py:462\u001b[0m, in \u001b[0;36m_render_mermaid_using_api\u001b[0;34m(mermaid_syntax, output_file_path, background_color, file_type, max_retries, retry_delay)\u001b[0m\n\u001b[1;32m    457\u001b[0m         \u001b[38;5;28;01melse\u001b[39;00m:\n\u001b[1;32m    458\u001b[0m             msg \u001b[38;5;241m=\u001b[39m (\n\u001b[1;32m    459\u001b[0m                 \u001b[38;5;124m\"\u001b[39m\u001b[38;5;124mFailed to reach https://mermaid.ink/ API while trying to render \u001b[39m\u001b[38;5;124m\"\u001b[39m\n\u001b[1;32m    460\u001b[0m                 \u001b[38;5;124mf\u001b[39m\u001b[38;5;124m\"\u001b[39m\u001b[38;5;124myour graph after \u001b[39m\u001b[38;5;132;01m{\u001b[39;00mmax_retries\u001b[38;5;132;01m}\u001b[39;00m\u001b[38;5;124m retries. \u001b[39m\u001b[38;5;124m\"\u001b[39m\n\u001b[1;32m    461\u001b[0m             ) \u001b[38;5;241m+\u001b[39m error_msg_suffix\n\u001b[0;32m--> 462\u001b[0m             \u001b[38;5;28;01mraise\u001b[39;00m \u001b[38;5;167;01mValueError\u001b[39;00m(msg) \u001b[38;5;28;01mfrom\u001b[39;00m\u001b[38;5;250m \u001b[39m\u001b[38;5;21;01me\u001b[39;00m\n\u001b[1;32m    464\u001b[0m \u001b[38;5;66;03m# This should not be reached, but just in case\u001b[39;00m\n\u001b[1;32m    465\u001b[0m msg \u001b[38;5;241m=\u001b[39m (\n\u001b[1;32m    466\u001b[0m     \u001b[38;5;124m\"\u001b[39m\u001b[38;5;124mFailed to reach https://mermaid.ink/ API while trying to render \u001b[39m\u001b[38;5;124m\"\u001b[39m\n\u001b[1;32m    467\u001b[0m     \u001b[38;5;124mf\u001b[39m\u001b[38;5;124m\"\u001b[39m\u001b[38;5;124myour graph after \u001b[39m\u001b[38;5;132;01m{\u001b[39;00mmax_retries\u001b[38;5;132;01m}\u001b[39;00m\u001b[38;5;124m retries. \u001b[39m\u001b[38;5;124m\"\u001b[39m\n\u001b[1;32m    468\u001b[0m ) \u001b[38;5;241m+\u001b[39m error_msg_suffix\n",
      "\u001b[0;31mValueError\u001b[0m: Failed to reach https://mermaid.ink/ API while trying to render your graph after 1 retries. To resolve this issue:\n1. Check your internet connection and try again\n2. Try with higher retry settings: `draw_mermaid_png(..., max_retries=5, retry_delay=2.0)`\n3. Use the Pyppeteer rendering method which will render your graph locally in a browser: `draw_mermaid_png(..., draw_method=MermaidDrawMethod.PYPPETEER)`"
     ]
    }
   ],
   "source": [
    "display(Image(graph.get_graph().draw_mermaid_png()))"
   ]
  },
  {
   "cell_type": "code",
   "execution_count": 83,
   "id": "3b17a07c",
   "metadata": {},
   "outputs": [],
   "source": [
    "result = graph.invoke({'question':'what are the recent problem with india and pakistan'})"
   ]
  },
  {
   "cell_type": "code",
   "execution_count": 84,
   "id": "a01b318e",
   "metadata": {},
   "outputs": [
    {
     "name": "stdout",
     "output_type": "stream",
     "text": [
      "The escalating conflict between India and Pakistan, two neighbors who have been rivals for decades, erupted in the early hours of Wednesday morning when New Delhi launched missiles across the border. New Delhi said its strikes on Pakistan were both a response to last month's attack that killed at least 26 people Indian-administered Kashmir and a deterrent against future attacks, which India ... India launched military strikes on targets in Pakistan, both countries said on Wednesday and Pakistan claimed it had shot down five Indian Air Force jets, in an escalation that has pushed the two ... The conflict between India and Pakistan puts two of the world's nuclear powers head to head. ... Pakistan may also have reason to respond with more force to India's recent attack than in the past. Turkish President Recip Tayyip Erdogan has spoken with Pakistan's Prime Minister Shehbaz Sharif on a call to convey his solidarity after India hit Pakistan and Pakistani Kashmir with missiles.The partition of India in 1947 was the division of British India into two independent dominion states, the Union of India and Dominion of Pakistan. The Union of India is today the Republic of India and the Dominion of Pakistan, the Islamic Republic of Pakistan, and the People's Republic of Bangladesh. The partition involved the division of two provinces, Bengal and the Punjab, based on district-wise Hindu or Muslim majorities. It also involved the division of the British Indian Army, the Royal Indian Navy, the Indian Civil Service, the railways, and the central treasury, between the two new dominions. The partition was set forth in the Indian Independence Act 1947 and resulted in the dissolution of the British Raj, or Crown rule in India. The two self-governing countries of India and Pakistan legally came into existence at midnight on 14–15 August 1947.\n",
      "The partition displaced between 12 and 20 million people along religious lines, creating overwhelming refugee crises in the newly constituted dominions; there was large-scale violence, with estimates of loss of life accompanying or preceding the partition disputed and varying between several hundred thousand and two million. The violent nature of the partition created an atmosphere of hostility and suspicion between India and Pakistan that plagues their relationship to the present.\n",
      "The term partition of India does not cover the secession of Bangladesh from Pakistan in 1971, nor the earlier separations of Burma (now Myanmar) and Ceylon (now Sri Lanka) from the administration of British India. The term also does not cover the political integration of princely states into the two new dominions, nor the disputes of annexation or division arising in the princely states of Hyderabad, Junagadh, and Jammu and Kashmir, though violence along religious lines did break out in some princely states at the time of the partition.  It does not cover the incorporation of the enclaves of French India into India during the period 1947–1954, nor the annexation of Goa and other districts of Portuguese India by India in 1961. Other contemporaneous political entities in the region in 1947, such as Sikkim, Bhutan, Nepal, and the Maldives, were unaffected by the partition.Kashmir ( KASH-meer or  kash-MEER) is the northernmost geographical region of the Indian subcontinent. Until the mid-19th century, the term Kashmir denoted only the Kashmir Valley between the Great Himalayas and the Pir Panjal Range. The term has since also come to encompass a larger area that includes the India-administered territories of Jammu and Kashmir and Ladakh, the Pakistan-administered territories of Azad Kashmir and Gilgit-Baltistan, and the Chinese-administered territories of Aksai Chin and the Trans-Karakoram Tract.\n",
      "\n",
      "In 1820, the Sikh Empire, under Ranjit Singh, annexed Kashmir. In 1846, after the Sikh defeat in the First Anglo-Sikh War, and upon the purchase of the region from the British under the Treaty of Amritsar, the Raja of Jammu, Gulab Singh, became the new ruler of Kashmir. The rule of his descendants, under the paramountcy (or tutelage) of the British Crown, lasted until the Partition of India in 1947, when the former princely state of the British Indian Empire became a disputed territory, now administered by three countries: China, India, and Pakistan.\n",
      "\n",
      "The Kashmir conflict is a territorial conflict over the Kashmir region, primarily between India and Pakistan, and also between China and India in the northeastern portion of the region. The conflict started after the partition of India in 1947 as both India and Pakistan claimed the entirety of the former princely state of Jammu and Kashmir. It is a dispute over the region that escalated into three wars between India and Pakistan and several other armed skirmishes. India controls approximately 55% of the land area of the region that includes Jammu, the Kashmir Valley, most of Ladakh, the Siachen Glacier, and 70% of its population; Pakistan controls approximately 30% of the land area that includes Azad Kashmir and Gilgit-Baltistan; and China controls the remaining 15% of the land area that includes the Aksai Chin region, the mostly uninhabited Trans-Karakoram Tract, and part of the Demchok sector.\n",
      "After the partition of India and a rebellion in the western districts of the state, Pakistani tribal militias invaded Kashmir, leading the Hindu ruler of Jammu and Kashmir to join India. The resulting Indo-Pakistani War ended with a UN-mediated ceasefire along a line that was eventually named the Line of Control. In 1962, China invaded and fought a war with India along the disputed Indo-Chinese border, including in Indian administered-Ladakh, marking their entry to the Kashmir conflict. In 1965, Pakistan attempted to infiltrate Indian-administered Kashmir to precipitate an insurgency there, resulting in another war fought by the two countries over the region. After further fighting during the war of 1971, the Simla Agreement formally established the Line of Control between the territories under Indian and Pakistani control. In 1999, an armed conflict between the two countries broke out again in Kargil with no effect on the status quo.\n",
      "In 1989, an armed insurgency erupted against Indian rule in Indian-administered Kashmir Valley, after years of political disenfranchisement and alienation, with logistical support from Pakistan. The insurgency was actively opposed in Jammu and Ladakh, where it revived long-held demands for autonomy from Kashmiri dominance and greater integration with India. Spearheaded by a group seeking creation of an independent state based on demands for self-determination, the insurgency was taken over within the first few years of its outbreak by Pakistan-backed Jihadist groups striving for merger with Pakistan. The militancy continued through the 1990s and early 2000s—by which time it was being driven largely by foreign militants and spread to parts of the adjoining Jammu region—but declined thereafter.  The fighting resulted in tens of thousands of casualties, both combatant and civilian. The militancy also resulted in the exodus of Kashmiri Hindus from the predominantly Muslim Kashmir Valley in the early 1990s. Counterinsurgency by the Indian government was coupled with repression of the local population and increased militarisation of the region, while various insurgent groups engaged in a variety of criminal activity. The 2010s were marked by civil unrest within the Kashmir Valley, fuelled by unyielding militarisation, rights violations, mis-rule and corruption, wherein protesting local youths violently clashed with Indian security forces, with large-scale demonstrations taking place during the 2010 unrest triggered by an allegedly staged encounter, and during the 2016 unrest which ensued after the killing of a young militant from a Jihadist group, who had risen to popularity through social media. Further unrest in the region erupted after the 2019 Pulwama attack.\n",
      "According to scholars, Indian forces have committed many human rights abuses and acts of terror against the Kashmiri civilian population, including extrajudicial killing, rape, torture, and enforced disappearances. According to Amnesty International, no member of the Indian military deployed in Jammu and Kashmir has been tried for human rights violations in a civilian court as of June 2015, although military courts-martial have been held. Amnesty International has also accused the Indian government of refusing to prosecute perpetrators of abuses in the region. Moreover, there have been instances of human rights abuses in Azad Kashmir, including but not limited to political repressions and forced disappearances. Brad Adams, the Asia director at Human Rights Watch said in 2006 \"Although 'Azad' means 'free', the residents of Azad Kashmir are anything but free. The Pakistani authorities govern Azad Kashmir with strict controls on basic freedoms\". The OHCHR reports on Kashmir released two reports on \"the situation of human rights in Indian-Administered Kashmir and Pakistan-Administered Kashmir\".Pakistan is one of nine states that possess nuclear weapons. Pakistan began developing nuclear weapons in January 1972 under Prime Minister Zulfikar Ali Bhutto, who delegated the program to the Chairman of the Pakistan Atomic Energy Commission (PAEC) Munir Ahmad Khan with a commitment to having the device ready by the end of 1976. Since PAEC, which consisted of over twenty laboratories and projects under reactor physicist Munir Ahmad Khan, was falling behind schedule and having considerable difficulty producing fissile material, Abdul Qadeer Khan, a metallurgist working on centrifuge enrichment for Urenco, joined the program at the behest of the Bhutto administration by the end of 1974. Producing fissile material was pivotal to the Kahuta Project's success and thus to Pakistan obtaining the capability to detonate a nuclear weapon by the end of 1984.\n",
      "The Kahuta Project started under the supervision of a coordination board that oversaw the activities of KRL and PAEC. The Board consisted of A G N Kazi (secretary general, finance), Ghulam Ishaq Khan (secretary general, defence), and Agha Shahi (secretary general, foreign affairs), and reported directly to Bhutto. Ghulam Ishaq Khan and General Tikka Khan appointed Major General Ali Nawab as the ranking engineer on the program. Moderate uranium enrichment for the production of fissile material was achieved at KRL by April 1978. Eventually, the supervision passed to Lt General Zahid Ali Akbar Khan in President General Muhammad Zia-ul-Haq's administration.\n",
      "Pakistan's nuclear weapons development was in response to the loss of East Pakistan in 1971's Bangladesh Liberation War. Bhutto called a meeting of senior scientists and engineers on 20 January 1972. Bhutto was the main architect of this programme, and it was here that Bhutto orchestrated the nuclear weapons programme and rallied Pakistan's academic scientists to build an atomic bomb in three years for national survival.\n",
      "At the meeting, Bhutto also appointed Munir Ahmad Khan as chairman of PAEC, who, until then, had been working as director at the nuclear power and Reactor Division of the International Atomic Energy Agency (IAEA), in Vienna, Austria. In December 1972, Abdus Salam led the establishment of Theoretical Physics Group (TPG) as he called scientists working at ICTP to report to Munir Ahmad Khan. This marked the beginning of Pakistan's pursuit of nuclear deterrence capability. Following India's surprise nuclear test, codenamed Smiling Buddha in 1974, the first confirmed nuclear test by a nation outside the permanent five members of the United Nations Security Council, the goal to develop nuclear weapons received considerable impetus.\n",
      "Finally, on 28 May 1998, a few weeks after India's second nuclear test (Operation Shakti), Pakistan detonated five nuclear devices in the Ras Koh Hills in the Chagai district, Balochistan. This operation was named Chagai-I by Pakistan, the underground iron-steel tunnel having been long-constructed by provincial martial law administrator General Rahimuddin Khan during the 1980s. The Pakistani Atomic Energy Commission reported that the five nuclear tests conducted on May 28 generated a seismic signal of 5.0 on the Richter scale, with a total yield of up to 40 KT (equivalent TNT). Dr. A.Q. Khan claimed that one device was a boosted fission device and that the other four were sub-kiloton nuclear devices. The last test of Pakistan was conducted at the sandy Kharan Desert under the codename Chagai-II, also in Balochistan, on 30 May 1998. Pakistan's fissile material production takes place at Nilore, Kahuta, and Khushab Nuclear Complex, where weapons-grade plutonium is refined. Pakistan thus became the seventh country in the world to successfully develop and test nuclear weapons, although according to a letter sent by A.Q. Khan to General Zia, the capability to detonate a nuclear bomb using highly enriched uranium as fissile material produced at KRL had already been achieved by KRL in 1984.The Indo-Pakistani war of 1965, also known as  the second Indo–Pakistani war, was an armed conflict between Pakistan and India that took place from August 1965 to September 1965. The conflict began following Pakistan's unsuccessful Operation Gibraltar, which was designed to infiltrate forces into Jammu and Kashmir to precipitate an insurgency against Indian rule. The seventeen day war caused thousands of casualties on both sides and witnessed the largest engagement of armoured vehicles and the largest tank battle since World War II. Hostilities between the two countries ended after a ceasefire was declared through UNSC Resolution 211 following a diplomatic intervention by the Soviet Union and the United States, and the subsequent issuance of the Tashkent Declaration. Much of the war was fought by the countries' land forces in Kashmir and along the border between India and Pakistan. This war saw the largest amassing of troops in Kashmir since the Partition of India in 1947, a number that was overshadowed only during the 2001–2002 military standoff between India and Pakistan. Most of the battles were fought by opposing infantry and armoured units, with substantial backing from air forces, and naval operations.\n",
      "India had the upper hand over Pakistan when the ceasefire was declared. However, in terms of aerial warfare, the PAF managed an upper hand over the combat zones despite being numerically inferior. Although the two countries fought to a standoff, the conflict is seen as a strategic and political defeat for Pakistan, as it had not succeeded in fomenting an insurrection in Kashmir and was instead forced to shift gears in the defence of Lahore. India also failed to achieve its objective of military deterrence and did not capitalise on its advantageous military situation before the ceasefire was declared.\n",
      "Internationally, the war was viewed in the context of the greater Cold War, and resulted in a significant geopolitical shift in the subcontinent. Before the war, the United States and the United Kingdom had been major material allies of both India and Pakistan, as their primary suppliers of military hardware and foreign developmental aid. During and after the conflict, both India and Pakistan felt betrayed by the perceived lack of support by the western powers for their respective positions; those feelings of betrayal were increased with the imposition of an American and British embargo on military aid to the opposing sides. As a consequence, India and Pakistan openly developed closer relationships with the Soviet Union and China, respectively. The perceived negative stance of the western powers during the conflict, and during the 1971 war, has continued to affect relations between the West and the subcontinent. Despite improved relations with the US and Britain since the end of the Cold War, the conflict generated a deep distrust of both countries within the subcontinent which, to an extent, still lingers today.\n"
     ]
    }
   ],
   "source": [
    "print(''.join(result['context']))"
   ]
  },
  {
   "cell_type": "code",
   "execution_count": 82,
   "id": "45691074",
   "metadata": {},
   "outputs": [
    {
     "name": "stdout",
     "output_type": "stream",
     "text": [
      "The core problem between India and Pakistan is a complex and multifaceted dispute rooted in historical events, political tensions, and territorial claims. Here's a breakdown of the key issues:\n",
      "\n",
      "*   **The Partition of British India (1947):** The division of British India into India and Pakistan led to mass displacement, violence, and lasting animosity. The partition created a legacy of mistrust and unresolved issues.\n",
      "\n",
      "*   **Territorial Disputes, Especially Kashmir:** The primary point of contention is the region of Jammu and Kashmir. Both countries claim the territory, leading to multiple wars and ongoing conflict. The region is divided, with India, Pakistan, and China controlling different portions.\n",
      "\n",
      "*   **Cross-Border Terrorism and Alleged Subversive Acts:** India accuses Pakistan of sponsoring cross-border terrorism, while Pakistan alleges subversive acts by India. These accusations fuel further distrust and hinder efforts to improve relations.\n",
      "\n",
      "*   **Religious Differences:** While both countries have diverse populations, the creation of India as a secular republic with a Hindu majority and Pakistan as an Islamic republic with a Muslim majority has contributed to communal tensions and mistrust.\n",
      "\n",
      "*   **Lack of Political Will:** The text suggests that neither side sees significant political advantages in pursuing better relations, leading to a state of \"minimalist engagement\" and a \"cold peace.\"\n",
      "\n",
      "In the context of the provided text, the 2025 Pahalgam attack and the subsequent escalation (diplomatic crisis, military strikes) are the latest manifestation of this long-standing problem.\n"
     ]
    }
   ],
   "source": [
    "print(result['answer'].content)"
   ]
  },
  {
   "cell_type": "code",
   "execution_count": 53,
   "id": "0817e761",
   "metadata": {},
   "outputs": [],
   "source": [
    "search = DuckDuckGoSearchRun()\n",
    "question = 'algebra'\n",
    "search_result = search.invoke(question)"
   ]
  },
  {
   "cell_type": "code",
   "execution_count": 55,
   "id": "00e20664",
   "metadata": {},
   "outputs": [
    {
     "data": {
      "text/plain": [
       "'Algebra is a branch of mathematics that studies abstract systems and operations. Learn about its origin, development, and major branches, such as elementary, linear, and abstract algebra. Learn about the origin and evolution of algebra, the branch of mathematics that manipulates abstract symbols rather than numbers. Explore the ancient and modern developments of equations, number systems, and symbolic language in algebra. Algebra did not always make use of the symbolism that is now ubiquitous in mathematics; instead, it went through three distinct stages. The stages in the development of symbolic algebra are approximately as follows: [3] Rhetorical algebra, in which equations are written in full sentences. For example, the rhetorical form of x + 1 = 2 {\\\\displaystyle x+1=2} is \"The thing plus one equals two\" or ... Learn the basics of algebra, including expressions, equations, operations, and methods for solving linear and quadratic equations. Explore algebra formulas, tricks, practice questions, and coding solutions for programmers. Learn the fundamentals of algebra, such as variables, expressions, equations, and operations. Find examples of linear, quadratic, and cubic equations, and how to solve them using algebraic rules and methods.'"
      ]
     },
     "execution_count": 55,
     "metadata": {},
     "output_type": "execute_result"
    }
   ],
   "source": [
    "search_result"
   ]
  },
  {
   "cell_type": "markdown",
   "id": "75a91dc5",
   "metadata": {},
   "source": [
    "### hh"
   ]
  },
  {
   "cell_type": "code",
   "execution_count": 25,
   "id": "52963d0c",
   "metadata": {},
   "outputs": [],
   "source": [
    "class Analyst(BaseModel):\n",
    "    affiliation:str = Field(description='Primary Affiliation of the analyst')\n",
    "    name: str = Field(description='name of the analyst')\n",
    "    role: str = Field(description='role of the analyst in the context of the topic')\n",
    "    description:str = Field(description='description of the analyst focus, concerns and motives')\n",
    "    @property\n",
    "    def persona(self) -> str:\n",
    "        return f\"Name: {self.name}\\nRole: {self.role}\\nAffiliation: {self.affiliation}\\nDescription: {self.description}\\n\"\n",
    "    \n",
    "class Perspective(BaseModel):\n",
    "    analysts: List[Analyst] = Field(description='Comprehensive list of analyst with their roles and affiliatoins')\n",
    "    \n",
    "class GeneralAnalystState(TypedDict):\n",
    "    topic: str\n",
    "    max_analyst: str\n",
    "    human_analyst_feedback: str\n",
    "    analysts: List[Analyst]\n",
    "    "
   ]
  },
  {
   "cell_type": "code",
   "execution_count": 6,
   "id": "62b0f390",
   "metadata": {},
   "outputs": [],
   "source": [
    "# prompt\n",
    "analyst_instructions = \"\"\"You are tasked with creating a set of AI analyst personas. Follow these instructions carefully:\n",
    "\n",
    "1. First, review the research topic:\n",
    "{topic}\n",
    "\n",
    "2. Examine any editorial feedback that has been optionally provided to guide creation of the analysts:\n",
    "{human_analyst_feedback}\n",
    "\n",
    "3. Determine the most interesting themes based upon documents and / or feedback above.\n",
    "\n",
    "4. Pick the top {max_analysts} themes.\n",
    "\n",
    "5. Assign one analyst to each theme.\"\"\""
   ]
  },
  {
   "cell_type": "code",
   "execution_count": 29,
   "id": "c5b3f05c",
   "metadata": {},
   "outputs": [
    {
     "data": {
      "image/png": "[encoded data removed]",
      "text/plain": [
       "<langgraph.graph.state.CompiledStateGraph object at 0x115667160>"
      ]
     },
     "execution_count": 29,
     "metadata": {},
     "output_type": "execute_result"
    }
   ],
   "source": [
    "# node\n",
    "def create_analysts(state: GeneralAnalystState):\n",
    "    topic = state['topic']\n",
    "    max_analyst = state['max_analyst']\n",
    "    human_analyst_feedback = state.get('human_analyst_feedback','')\n",
    "    structured_model = model.with_structured_output(Perspective)\n",
    "    system_message = analyst_instructions.format(topic=topic,\n",
    "                                                human_analyst_feedback=human_analyst_feedback,\n",
    "                                                max_analyst=max_analyst)\n",
    "    message = [SystemMessage(analyst_instructions),\n",
    "               HumanMessage('Generate a set of Analyst')]\n",
    "    output = structured_model.invoke(message)\n",
    "    return {'analysts':output.analysts}\n",
    "\n",
    "def human_feedback(state: GeneralAnalystState):\n",
    "    pass\n",
    "\n",
    "def should_continue(state: GeneralAnalystState):\n",
    "    human_analyst_feedback = state.get('human_analyst_feedback', None)\n",
    "    if human_analyst_feedback:\n",
    "        return 'create_analyst'    \n",
    "    return END\n",
    "    \n",
    "\n",
    "\n",
    "builder = StateGraph(GeneralAnalystState)\n",
    "\n",
    "builder.add_node('create_analysts', create_analysts)\n",
    "builder.add_node('human_feedback', human_feedback)\n",
    "builder.add_edge(START, 'create_analysts')\n",
    "builder.add_edge('create_analysts', 'human_feedback')\n",
    "builder.add_conditional_edges(\n",
    "    'human_feedback',\n",
    "    should_continue,\n",
    "    ['create_analysts', END]\n",
    ")\n",
    "\n",
    "memory = MemorySaver()\n",
    "\n",
    "graph = builder.compile(checkpointer=memory, interrupt_before=['human_feedback'])\n",
    "graph"
   ]
  },
  {
   "cell_type": "code",
   "execution_count": null,
   "id": "0a1518dd",
   "metadata": {},
   "outputs": [],
   "source": []
  },
  {
   "cell_type": "code",
   "execution_count": 19,
   "id": "73703756",
   "metadata": {},
   "outputs": [],
   "source": [
    "pers = model.with_structured_output(Perspective).invoke('Generate a set of analyst')"
   ]
  },
  {
   "cell_type": "code",
   "execution_count": 21,
   "id": "ef859767",
   "metadata": {},
   "outputs": [
    {
     "data": {
      "text/plain": [
       "[Analyst(affiliation='ThinkTankA', name='John Smith', role='National Security Analyst', description='Cybersecurity threats from a national security perspective'),\n",
       " Analyst(affiliation='BankOfAmerica', name='Jane Doe', role='Financial Analyst', description='Cybersecurity threats from a financial perspective')]"
      ]
     },
     "execution_count": 21,
     "metadata": {},
     "output_type": "execute_result"
    }
   ],
   "source": [
    "pers.analyst"
   ]
  },
  {
   "cell_type": "code",
   "execution_count": null,
   "id": "400b6922",
   "metadata": {},
   "outputs": [],
   "source": []
  }
 ],
 "metadata": {
  "kernelspec": {
   "display_name": ".venv",
   "language": "python",
   "name": "python3"
  },
  "language_info": {
   "codemirror_mode": {
    "name": "ipython",
    "version": 3
   },
   "file_extension": ".py",
   "mimetype": "text/x-python",
   "name": "python",
   "nbconvert_exporter": "python",
   "pygments_lexer": "ipython3",
   "version": "3.9.6"
  }
 },
 "nbformat": 4,
 "nbformat_minor": 5
}
