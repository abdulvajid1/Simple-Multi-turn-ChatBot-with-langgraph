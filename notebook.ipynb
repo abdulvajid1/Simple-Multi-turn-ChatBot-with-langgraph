{
 "cells": [
  {
   "cell_type": "code",
   "execution_count": 2,
   "id": "c87ce03d",
   "metadata": {},
   "outputs": [
    {
     "name": "stderr",
     "output_type": "stream",
     "text": [
      "/Users/abdulvajid/AI/PROJECTS/Simple-Multi-turn-ChatBot-with-langgraph/.venv/lib/python3.9/site-packages/urllib3/__init__.py:35: NotOpenSSLWarning: urllib3 v2 only supports OpenSSL 1.1.1+, currently the 'ssl' module is compiled with 'LibreSSL 2.8.3'. See: https://github.com/urllib3/urllib3/issues/3020\n",
      "  warnings.warn(\n"
     ]
    },
    {
     "data": {
      "text/plain": [
       "True"
      ]
     },
     "execution_count": 2,
     "metadata": {},
     "output_type": "execute_result"
    }
   ],
   "source": [
    "from langgraph.graph import StateGraph, START, END\n",
    "from langgraph.graph.message import AnyMessage\n",
    "from langchain_core.messages import HumanMessage, AIMessage, SystemMessage\n",
    "from langgraph.graph.message import add_messages, MessagesState\n",
    "from langchain_google_genai import ChatGoogleGenerativeAI\n",
    "from langgraph.checkpoint.memory import MemorySaver\n",
    "from langchain_community.document_loaders import WikipediaLoader\n",
    "from langchain_community.tools import DuckDuckGoSearchRun\n",
    "from langgraph.constants import Send\n",
    "\n",
    "from typing import TypedDict\n",
    "from typing import List\n",
    "from typing import Annotated\n",
    "from dotenv import load_dotenv\n",
    "\n",
    "import os\n",
    "import operator\n",
    "\n",
    "from pydantic import BaseModel\n",
    "from pydantic import Field\n",
    "\n",
    "load_dotenv()\n"
   ]
  },
  {
   "cell_type": "code",
   "execution_count": 3,
   "id": "73d5b959",
   "metadata": {},
   "outputs": [],
   "source": [
    "model = ChatGoogleGenerativeAI(\n",
    "    model=\"gemini-2.0-flash\",\n",
    "    temperature=0,\n",
    "    max_tokens=None,\n",
    ")"
   ]
  },
  {
   "cell_type": "code",
   "execution_count": 4,
   "id": "1d79efc8",
   "metadata": {},
   "outputs": [
    {
     "data": {
      "text/plain": [
       "AIMessage(content=\"Hi there! Yes, I'd love to help. What do you need assistance with? Just let me know what's on your mind.\", additional_kwargs={}, response_metadata={'prompt_feedback': {'block_reason': 0, 'safety_ratings': []}, 'finish_reason': 'STOP', 'model_name': 'gemini-2.0-flash', 'safety_ratings': []}, id='run--1fae8b15-7d67-4321-b658-2c529b41c59b-0', usage_metadata={'input_tokens': 15, 'output_tokens': 31, 'total_tokens': 46, 'input_token_details': {'cache_read': 0}})"
      ]
     },
     "execution_count": 4,
     "metadata": {},
     "output_type": "execute_result"
    }
   ],
   "source": [
    "msg = [\n",
    "       SystemMessage(content='You are a helpfull Ai assistent'),\n",
    "       HumanMessage(content=\"hai , could you help me?\"),\n",
    "       ]\n",
    "\n",
    "model.invoke(msg)"
   ]
  },
  {
   "cell_type": "code",
   "execution_count": null,
   "id": "668499a8",
   "metadata": {},
   "outputs": [],
   "source": [
    "# Structured Output Schema for the Analyst \n",
    "class Profile(BaseModel):\n",
    "    name:str = Field(description='name of the analyst')\n",
    "    expertise:str = Field(description='the field where the analyst specialized in')\n",
    "    job:str = Field(description='job of the analyst')  "
   ]
  },
  {
   "cell_type": "code",
   "execution_count": 5,
   "id": "080327a6",
   "metadata": {},
   "outputs": [],
   "source": [
    "class Analysts(BaseModel):\n",
    "    analysts: list[Profile]"
   ]
  },
  {
   "cell_type": "code",
   "execution_count": null,
   "id": "36f4716b",
   "metadata": {},
   "outputs": [],
   "source": [
    "# Overall general State\n",
    "class OverallState(MessagesState):\n",
    "    max_analyst: int\n",
    "    analysts: list[Analysts]\n",
    "    context: Annotated[list, add_messages]"
   ]
  },
  {
   "cell_type": "code",
   "execution_count": null,
   "id": "a2fb9777",
   "metadata": {},
   "outputs": [],
   "source": [
    "# System prmpt for first node\n",
    "system_prompt = \"\"\"You are an intelligent AI assistant specialized in generating different expertise detailed analyst profiles based on a specific topic specified by user.\n",
    "Generate {max_analyst} anlyste profiles.\n",
    "    \"\"\"\n",
    "\n",
    "# Node_1\n",
    "def create_analysts(state: OverallState) -> OverallState:\n",
    "    system_prompt = system_prompt.format(max_analyst=state['max_analyst'])\n",
    "    system_prompt = [\n",
    "        SystemMessage(content=system_prompt)\n",
    "        ]\n",
    "    sturctured_output_model = model.with_structured_output(Analysts)\n",
    "    messages = system_prompt + state['messages'] # list concat\n",
    "    analysts = sturctured_output_model.invoke(messages)\n",
    "    return {'analysts': analysts}"
   ]
  },
  {
   "cell_type": "code",
   "execution_count": 8,
   "id": "679954ff",
   "metadata": {},
   "outputs": [],
   "source": [
    "graph = StateGraph(OverallState)\n",
    "\n",
    "# Nodes\n",
    "graph.add_node(create_analysts,'create_analysts')\n",
    "\n",
    "# Edges\n",
    "graph.add_edge(START, 'create_analysts')\n",
    "graph = graph.compile()\n"
   ]
  },
  {
   "cell_type": "code",
   "execution_count": 9,
   "id": "1b3eb828",
   "metadata": {},
   "outputs": [
    {
     "data": {
      "image/png": "[encoded data removed]",
      "text/plain": [
       "<langgraph.graph.state.CompiledStateGraph object at 0x11b0679d0>"
      ]
     },
     "execution_count": 9,
     "metadata": {},
     "output_type": "execute_result"
    }
   ],
   "source": [
    "graph"
   ]
  },
  {
   "cell_type": "code",
   "execution_count": 10,
   "id": "34953559",
   "metadata": {},
   "outputs": [
    {
     "data": {
      "text/plain": [
       "{'messages': [HumanMessage(content='ai in education', additional_kwargs={}, response_metadata={}, id='43fa71f9-7ab5-4a8f-b744-1e914145189c')],\n",
       " 'max_analyst': 5,\n",
       " 'analysts': Analysts(analysts=[Profile(name='Dr. Anya Sharma', expertise='AI in personalized learning', job='Educational Data Scientist'), Profile(name='Mr. Ben Carter', expertise='AI-driven assessment and feedback', job='AI Education Consultant'), Profile(name='Ms. Chloe Davis', expertise='AI for curriculum development', job='Curriculum Design Specialist'), Profile(name='Mr. David Lee', expertise='AI in special education', job='Assistive Technology Specialist'), Profile(name='Dr. Emily Green', expertise='AI ethics in education', job='Education Policy Analyst')]),\n",
       " 'context': []}"
      ]
     },
     "execution_count": 10,
     "metadata": {},
     "output_type": "execute_result"
    }
   ],
   "source": [
    "graph.invoke({'messages':[HumanMessage(content='ai in education')], 'max_analyst':5})"
   ]
  }
 ],
 "metadata": {
  "kernelspec": {
   "display_name": "simple-multi-turn-chatbot-with-langgraph",
   "language": "python",
   "name": "python3"
  },
  "language_info": {
   "codemirror_mode": {
    "name": "ipython",
    "version": 3
   },
   "file_extension": ".py",
   "mimetype": "text/x-python",
   "name": "python",
   "nbconvert_exporter": "python",
   "pygments_lexer": "ipython3",
   "version": "3.9.6"
  }
 },
 "nbformat": 4,
 "nbformat_minor": 5
}
