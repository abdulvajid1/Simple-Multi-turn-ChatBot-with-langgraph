{
 "cells": [
  {
   "cell_type": "code",
   "execution_count": null,
   "id": "678fda62",
   "metadata": {},
   "outputs": [
    {
     "data": {
      "text/plain": [
       "True"
      ]
     },
     "execution_count": 20,
     "metadata": {},
     "output_type": "execute_result"
    }
   ],
   "source": [
    "from langgraph.graph import StateGraph, START, END\n",
    "from langgraph.graph.message import MessagesState\n",
    "from langchain_core.messages import HumanMessage, SystemMessage, ToolMessage, ToolCall\n",
    "from langchain_google_genai import ChatGoogleGenerativeAI\n",
    "from langgraph.prebuilt import tools_condition, ToolNode\n",
    "\n",
    "from dotenv import load_dotenv\n",
    "\n",
    "load_dotenv()"
   ]
  },
  {
   "cell_type": "code",
   "execution_count": 21,
   "id": "859613ee",
   "metadata": {},
   "outputs": [],
   "source": [
    "llm = ChatGoogleGenerativeAI(\n",
    "    model=\"gemini-2.0-flash\",\n",
    "    temperature=0.7,\n",
    "    max_tokens=None,\n",
    ")"
   ]
  },
  {
   "cell_type": "code",
   "execution_count": 22,
   "id": "644c2f8c",
   "metadata": {},
   "outputs": [],
   "source": [
    "# Define tool\n",
    "def multiply(a: int, b:int) -> int:\n",
    "    \"\"\"Multiply two numbers\n",
    "    \n",
    "    Args:\n",
    "        a: first int\n",
    "        b: second int\n",
    "    \"\"\"\n",
    "    \n",
    "    return a * b\n",
    "\n",
    "def add(a: int, b:int) -> int:\n",
    "    \"\"\"Multiply two numbers\n",
    "    \n",
    "    Args:\n",
    "        a: first int\n",
    "        b: second int\n",
    "    \"\"\"\n",
    "    \n",
    "    return a + b\n",
    "\n",
    "def divide(a: int, b:int) -> float:\n",
    "    \"\"\"Multiply two numbers\n",
    "    \n",
    "    Args:\n",
    "        a: first int\n",
    "        b: second int\n",
    "    \"\"\"\n",
    "    \n",
    "    return a / b"
   ]
  },
  {
   "cell_type": "code",
   "execution_count": 23,
   "id": "6259bce6",
   "metadata": {},
   "outputs": [],
   "source": [
    "# bind tools to model\n",
    "tools = [add, multiply, divide]\n",
    "llm_with_tools = llm.bind_tools(tools)"
   ]
  },
  {
   "cell_type": "code",
   "execution_count": 24,
   "id": "d0cc5b30",
   "metadata": {},
   "outputs": [
    {
     "data": {
      "text/plain": [
       "[{'name': 'add',\n",
       "  'args': {'a': 5.0, 'b': 20.0},\n",
       "  'id': 'a00bc45a-1f4c-445f-8404-5b34b4741bdc',\n",
       "  'type': 'tool_call'},\n",
       " {'name': 'multiply',\n",
       "  'args': {'a': 2.0, 'b': 3.0},\n",
       "  'id': '35fbd319-1b49-474c-a64c-17bab248a11d',\n",
       "  'type': 'tool_call'}]"
      ]
     },
     "execution_count": 24,
     "metadata": {},
     "output_type": "execute_result"
    }
   ],
   "source": [
    "llm_with_tools.invoke('add 5 + 20 and multiply 2 * 3').tool_calls"
   ]
  },
  {
   "cell_type": "code",
   "execution_count": 25,
   "id": "f38f5756",
   "metadata": {},
   "outputs": [],
   "source": [
    "# Define state\n",
    "class State(MessagesState):\n",
    "    pass"
   ]
  },
  {
   "cell_type": "code",
   "execution_count": 26,
   "id": "3c5f5593",
   "metadata": {},
   "outputs": [],
   "source": [
    "# Node1\n",
    "def assistent(state: State) -> State:\n",
    "    message = state['messages']\n",
    "    llm_response = llm_with_tools.invoke(message)\n",
    "    return {'messages': [llm_response]}"
   ]
  },
  {
   "cell_type": "code",
   "execution_count": 27,
   "id": "0fa84eb8",
   "metadata": {},
   "outputs": [],
   "source": [
    "llm_tools_json = llm_with_tools.kwargs['tools']\n",
    "tools_by_name = {tool_dict['function']['name']: tool_func for tool_dict, tool_func  in zip(llm_tools_json, tools)}"
   ]
  },
  {
   "cell_type": "code",
   "execution_count": 28,
   "id": "05846c9f",
   "metadata": {},
   "outputs": [],
   "source": [
    "# Tool Execution node\n",
    "def tool_execution(state: State):\n",
    "    for tool_call in state['messages'][-1].tool_calls:\n",
    "        tool = tools_by_name[tool_call['name']]\n",
    "        tool_args_dict = tool_call['args']\n",
    "        tool_result = tool(**tool_args_dict)\n",
    "    return {'messages' :[ToolMessage(content=str(tool_result), name=tool_call['name'], tool_call_id=tool_call['id'])]}"
   ]
  },
  {
   "cell_type": "code",
   "execution_count": 29,
   "id": "8d2b0d5d",
   "metadata": {},
   "outputs": [],
   "source": [
    "def tool_routing_condition(state: State):\n",
    "    if state['messages'][-1].content:\n",
    "        return 'end'\n",
    "    else:\n",
    "        return \"continue\""
   ]
  },
  {
   "cell_type": "code",
   "execution_count": 30,
   "id": "f1a48b23",
   "metadata": {},
   "outputs": [],
   "source": [
    "graph = StateGraph(State)\n",
    "\n",
    "graph.add_node('llm', assistent)\n",
    "graph.add_node('tools', tool_execution)\n",
    "graph.add_edge(START, 'llm')\n",
    "graph.add_edge('tools', 'llm')\n",
    "graph.add_conditional_edges('llm',\n",
    "                            path=tool_routing_condition,\n",
    "                            path_map={'continue': 'tools', 'end': END} )\n",
    "\n",
    "\n",
    "graph = graph.compile()\n"
   ]
  },
  {
   "cell_type": "code",
   "execution_count": 31,
   "id": "51edfe0f",
   "metadata": {},
   "outputs": [],
   "source": [
    "output = graph.invoke({'messages':[HumanMessage(content='what is 2 * 5')]})"
   ]
  },
  {
   "cell_type": "code",
   "execution_count": 32,
   "id": "2a986263",
   "metadata": {},
   "outputs": [
    {
     "name": "stdout",
     "output_type": "stream",
     "text": [
      "================================\u001b[1m Human Message \u001b[0m=================================\n",
      "\n",
      "what is 2 * 5\n",
      "None\n",
      "==================================\u001b[1m Ai Message \u001b[0m==================================\n",
      "Tool Calls:\n",
      "  multiply (d5102f06-d928-4d4f-9a42-3f2fdb8ea16d)\n",
      " Call ID: d5102f06-d928-4d4f-9a42-3f2fdb8ea16d\n",
      "  Args:\n",
      "    a: 2.0\n",
      "    b: 5.0\n",
      "None\n",
      "=================================\u001b[1m Tool Message \u001b[0m=================================\n",
      "Name: multiply\n",
      "\n",
      "10.0\n",
      "None\n",
      "==================================\u001b[1m Ai Message \u001b[0m==================================\n",
      "\n",
      "The answer is 10.\n",
      "None\n"
     ]
    }
   ],
   "source": [
    "for m in output['messages']:\n",
    "    print(m.pretty_print())"
   ]
  },
  {
   "cell_type": "code",
   "execution_count": null,
   "id": "684d3b2f",
   "metadata": {},
   "outputs": [],
   "source": []
  }
 ],
 "metadata": {
  "kernelspec": {
   "display_name": "simple-multi-turn-chatbot-with-langgraph",
   "language": "python",
   "name": "python3"
  },
  "language_info": {
   "codemirror_mode": {
    "name": "ipython",
    "version": 3
   },
   "file_extension": ".py",
   "mimetype": "text/x-python",
   "name": "python",
   "nbconvert_exporter": "python",
   "pygments_lexer": "ipython3",
   "version": "3.9.6"
  }
 },
 "nbformat": 4,
 "nbformat_minor": 5
}
